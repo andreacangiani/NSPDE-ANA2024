{
  "nbformat": 4,
  "nbformat_minor": 0,
  "metadata": {
    "colab": {
      "provenance": [],
      "authorship_tag": "ABX9TyP7OkSF1a2EOW/sUYvFG+IH",
      "include_colab_link": true
    },
    "kernelspec": {
      "name": "python3",
      "display_name": "Python 3"
    },
    "language_info": {
      "name": "python"
    }
  },
  "cells": [
    {
      "cell_type": "markdown",
      "metadata": {
        "id": "view-in-github",
        "colab_type": "text"
      },
      "source": [
        "<a href=\"https://colab.research.google.com/github/andreacangiani/NSPDE-ANA2024/blob/main/Python/CP2.ipynb\" target=\"_parent\"><img src=\"https://colab.research.google.com/assets/colab-badge.svg\" alt=\"Open In Colab\"/></a>"
      ]
    },
    {
      "cell_type": "markdown",
      "source": [
        "# Divided differences using sparse matrix"
      ],
      "metadata": {
        "id": "WLd_JqUTLlx7"
      }
    },
    {
      "cell_type": "markdown",
      "source": [
        "Import the usual modules"
      ],
      "metadata": {
        "id": "lAvcakieLgH4"
      }
    },
    {
      "cell_type": "code",
      "execution_count": null,
      "metadata": {
        "id": "UhR8FV_9KpLl"
      },
      "outputs": [],
      "source": [
        "import numpy as np\n",
        "import matplotlib.pyplot as plt\n",
        "import sympy as sym"
      ]
    },
    {
      "cell_type": "markdown",
      "source": [
        "New module: sparse algebra"
      ],
      "metadata": {
        "id": "TEsSBeGDMz-9"
      }
    },
    {
      "cell_type": "code",
      "source": [
        "import scipy.sparse as sp"
      ],
      "metadata": {
        "id": "knW_Lj85M3g2"
      },
      "execution_count": null,
      "outputs": []
    },
    {
      "cell_type": "markdown",
      "source": [
        "Function implementing the forward difference in sparse format"
      ],
      "metadata": {
        "id": "AOx_KN1HLSBn"
      }
    },
    {
      "cell_type": "code",
      "source": [],
      "metadata": {
        "id": "bPMMOZh0LRd5"
      },
      "execution_count": null,
      "outputs": []
    },
    {
      "cell_type": "markdown",
      "source": [
        "Exmaple of Forward Difference matrix"
      ],
      "metadata": {
        "id": "71Kmcfz3M-ya"
      }
    },
    {
      "cell_type": "code",
      "source": [],
      "metadata": {
        "id": "DJ6b0gTXR63S"
      },
      "execution_count": null,
      "outputs": []
    },
    {
      "cell_type": "code",
      "source": [],
      "metadata": {
        "id": "kecwHOrVSNSK"
      },
      "execution_count": null,
      "outputs": []
    },
    {
      "cell_type": "code",
      "source": [],
      "metadata": {
        "id": "lUfU966YSY9U"
      },
      "execution_count": null,
      "outputs": []
    },
    {
      "cell_type": "markdown",
      "source": [
        "Test: use the FD to evaluate the derivative of $f(x)=\\frac{x^2}{2}$"
      ],
      "metadata": {
        "id": "vFJoKMnYMThw"
      }
    },
    {
      "cell_type": "code",
      "source": [
        "# Fix function f using symbolic tool\n",
        "t = sym.var('t')\n",
        "fsym = 0.5 * t**2\n",
        "# Define the function as an inline function\n",
        "f = sym.lambdify(t, fsym )\n",
        "\n",
        "# Set up interval and cardinality of the grid\n",
        "\n",
        "# set up grid points\n",
        "\n",
        "\n",
        "# Evaluate FD matrix\n",
        "\n",
        "\n",
        "# Values of the derivative at the grid points\n",
        "\n",
        "\n",
        "# Print results\n"
      ],
      "metadata": {
        "id": "6Nq2C60jL6PZ"
      },
      "execution_count": null,
      "outputs": []
    },
    {
      "cell_type": "markdown",
      "source": [
        "Compute max error"
      ],
      "metadata": {
        "id": "yltrCIXzC2vM"
      }
    },
    {
      "cell_type": "code",
      "source": [],
      "metadata": {
        "id": "FzC-YdE0C5W8"
      },
      "execution_count": null,
      "outputs": []
    },
    {
      "cell_type": "markdown",
      "source": [
        "**Exercise 1.** Find a way to evaluate execution time and compare full vs sparse exectution time in function of the grid size N."
      ],
      "metadata": {
        "id": "8sObv8G9YSof"
      }
    },
    {
      "cell_type": "markdown",
      "source": [
        "# Finite Differences for two-points boundary value problems with constant coefficients"
      ],
      "metadata": {
        "id": "3EVlhgPcKty_"
      }
    },
    {
      "cell_type": "markdown",
      "source": [
        "Poisson problem in 1D:\n",
        "\n",
        "$-u''(x)=f(x) \\quad \\in (a,b)$\n",
        "\n",
        "$u(a)=0, \\quad u(b)=0$\n",
        "\n",
        "We use the second central divided difference to approxima the second derivative.\n",
        "\n",
        "Given $h>0$,\n",
        "\n",
        "$u''(x)≈\\frac{u(x+h)-2u(x)+u(x-h)}{h^2}$"
      ],
      "metadata": {
        "id": "cPX73u-NK2Pq"
      }
    },
    {
      "cell_type": "markdown",
      "source": [
        "Function for second central matrix"
      ],
      "metadata": {
        "id": "Uf1tUssmNf7d"
      }
    },
    {
      "cell_type": "code",
      "source": [
        "def CD2(N):\n",
        "  # Function defining nominator of\n",
        "  # second central FD formula on a\n",
        "  # uniform grid in sparse CSR format\n"
      ],
      "metadata": {
        "id": "6AkrOqiXNcTJ"
      },
      "execution_count": null,
      "outputs": []
    },
    {
      "cell_type": "markdown",
      "source": [
        "Example of second central matrix."
      ],
      "metadata": {
        "id": "Dg5laUneRdT5"
      }
    },
    {
      "cell_type": "code",
      "source": [],
      "metadata": {
        "id": "KUOiecYxW5ES"
      },
      "execution_count": null,
      "outputs": []
    },
    {
      "cell_type": "markdown",
      "source": [
        "Test problem:\n",
        "\n",
        "$(a,b)=(0,\\pi)$\n",
        "\n",
        "u(x)=sin(x)"
      ],
      "metadata": {
        "id": "kQFF0QdiNvCt"
      }
    },
    {
      "cell_type": "code",
      "source": [
        "# Define right-hand side function\n",
        "t = sym.var('t')\n",
        "my_f = sym.sin(t)\n",
        "rhs_f = sym.lambdify(t, my_f )\n",
        "\n",
        "# Define exact solution\n",
        "my_sol = sym.sin(t)\n",
        "exact_sol = sym.lambdify(t, my_sol )"
      ],
      "metadata": {
        "id": "6o6A_IUkNuMG"
      },
      "execution_count": null,
      "outputs": []
    },
    {
      "cell_type": "markdown",
      "source": [
        "Define FD problem:\n",
        "\n",
        "for $h=(b-a)/N$\n",
        "\n",
        "$ A U = - h^2 F $\n",
        "\n",
        "with $A$ the nominator of CD formula."
      ],
      "metadata": {
        "id": "SWzKNz0vOOWW"
      }
    },
    {
      "cell_type": "code",
      "source": [
        "# Problem domain\n",
        "\n",
        "\n",
        "# Size of grid\n",
        "\n",
        "\n",
        "# Grid\n",
        "\n",
        "\n",
        "# CD matrix\n",
        "\n",
        "\n",
        "# Right-hand side\n",
        "\n",
        "\n",
        "# Homogeneous Dirichlet boundary conditions\n",
        "\n"
      ],
      "metadata": {
        "id": "9ZJJbGtGOME1"
      },
      "execution_count": null,
      "outputs": []
    },
    {
      "cell_type": "markdown",
      "source": [
        "Import solver"
      ],
      "metadata": {
        "id": "3civ7pL9bGQe"
      }
    },
    {
      "cell_type": "code",
      "source": [
        "from scipy.sparse.linalg import spsolve"
      ],
      "metadata": {
        "id": "BEJ07uM1bJ07"
      },
      "execution_count": null,
      "outputs": []
    },
    {
      "cell_type": "markdown",
      "source": [
        "Solve problem and print result"
      ],
      "metadata": {
        "id": "AKmPecQMO4Kr"
      }
    },
    {
      "cell_type": "code",
      "source": [
        "# Compute solution at internal nodes\n",
        "\n",
        "# plot solution\n"
      ],
      "metadata": {
        "id": "l7B-YKy9O5jF"
      },
      "execution_count": null,
      "outputs": []
    },
    {
      "cell_type": "code",
      "source": [
        "# print max error\n",
        "\n",
        "print(np.max(np.abs(FD_sol-exact_sol(x[1:-1]))))"
      ],
      "metadata": {
        "id": "UQ9kqgtrZHom"
      },
      "execution_count": null,
      "outputs": []
    },
    {
      "cell_type": "markdown",
      "source": [
        "**Exercise 2.** test for convergence and plot convergence plot"
      ],
      "metadata": {
        "id": "EbHL94cyPFWM"
      }
    },
    {
      "cell_type": "markdown",
      "source": [
        "**Exercise 3.** Solve the problem with nonhomogeneous Dirichlet conditions:\n",
        "\n",
        "$-\\alpha u''(x)=f(x) \\quad \\in (a,b)$\n",
        "\n",
        "$u(a)=u_a, \\quad u(b)=u_b$"
      ],
      "metadata": {
        "id": "T2QXoNYhP228"
      }
    },
    {
      "cell_type": "markdown",
      "source": [
        "For example, you could fix: $(a,b)=(0,\\pi/2)$, solution $u$ as before, $\\alpha=\\frac{1}{2}$"
      ],
      "metadata": {
        "id": "PWX-C4sbQd-p"
      }
    },
    {
      "cell_type": "markdown",
      "source": [
        "**Exercise 4.** Solve the problem with (homogeneous) Neumann conditions:\n",
        "\n",
        "$-\\alpha u''(x)=f(x) \\quad \\in (a,b)$\n",
        "\n",
        "$u(a)=u_a, \\quad u'(b)=0$"
      ],
      "metadata": {
        "id": "DwxTZDyTQ_cV"
      }
    },
    {
      "cell_type": "markdown",
      "source": [
        "For example, you could fix: $(a,b)=(0,\\pi/2)$, solution $u$ as before, $\\alpha=1$."
      ],
      "metadata": {
        "id": "aySe91zwRMq3"
      }
    },
    {
      "cell_type": "markdown",
      "source": [
        "**Exercise 5.** Solve the reaction-advection-diffusion problem (still with central differences):\n",
        "\n",
        "$-\\alpha u''(x)+\\beta u'(x)+\\gamma u(x)=f(x) \\quad \\in (a,b)$\n",
        "\n",
        "$u(a)=u_a, \\quad u(b)=u_b$\n"
      ],
      "metadata": {
        "id": "MyrPdJSCSOeG"
      }
    }
  ]
}