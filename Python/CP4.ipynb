{
  "nbformat": 4,
  "nbformat_minor": 0,
  "metadata": {
    "colab": {
      "name": "C3-FD2D.ipynb",
      "provenance": [],
      "include_colab_link": true
    },
    "kernelspec": {
      "name": "python3",
      "display_name": "Python 3"
    },
    "language_info": {
      "name": "python"
    }
  },
  "cells": [
    {
      "cell_type": "markdown",
      "metadata": {
        "id": "view-in-github",
        "colab_type": "text"
      },
      "source": [
        "<a href=\"https://colab.research.google.com/github/andreacangiani/NSPDE-ANA2024/blob/main/Python/CP4.ipynb\" target=\"_parent\"><img src=\"https://colab.research.google.com/assets/colab-badge.svg\" alt=\"Open In Colab\"/></a>"
      ]
    },
    {
      "cell_type": "markdown",
      "source": [
        "# Finite Difference in 2D"
      ],
      "metadata": {
        "id": "pIwHkV0G1O28"
      }
    },
    {
      "cell_type": "markdown",
      "source": [
        "1. Finite Difference solver for the 2D Poisson problem:\n",
        "\n",
        "$-\\Delta u=f \\quad \\in \\Omega=(a,b)^2$\n",
        "\n",
        "$u|_{\\partial\\Omega}=0$"
      ],
      "metadata": {
        "id": "1d8zfQGR1NRQ"
      }
    },
    {
      "cell_type": "code",
      "execution_count": null,
      "metadata": {
        "id": "-JCGOvap0RHX"
      },
      "outputs": [],
      "source": [
        "import numpy as np\n",
        "import matplotlib.pyplot as plt\n",
        "from matplotlib import cm\n",
        "import scipy.sparse as sp\n",
        "from scipy.sparse.linalg import spsolve"
      ]
    },
    {
      "cell_type": "markdown",
      "source": [
        "Function computing the 2D FD algebric system"
      ],
      "metadata": {
        "id": "68WnP9Sw1bXx"
      }
    },
    {
      "cell_type": "code",
      "source": [
        "def FD2D(omega,N,rhs):\n",
        "  # FD system matrix and rhs in omega^2 for\n",
        "  # poisson equation homogeneous Dirichlet bc\n",
        "  # uniform grid in sparse CSR format\n",
        "  # with Nx = Ny = N\n",
        "\n",
        "  # x and y axis grid\n",
        "\n",
        "  # 2-dim grid\n",
        "\n",
        "\n",
        "  # compute rhs\n",
        "\n",
        "\n",
        "  # compute system matrix\n",
        "  # -(1/h^2) (U_{i,j-1}  +U_{i-1,j})     - 4 * U_{i,j}  +   U_{i+1,j} + U_{i,j+1} )\n",
        "\n",
        "  # Implement boundary conditions\n",
        "\n",
        "  return"
      ],
      "metadata": {
        "id": "4_0d_cDa1A9Q"
      },
      "execution_count": null,
      "outputs": []
    },
    {
      "cell_type": "markdown",
      "source": [
        "Define FD problem and solve with $(a,b)=(0,\n",
        "pi)$ and\n",
        "\n",
        "$u(x,y)=sin(x)*sin(y)$\n",
        "\n",
        "hence\n",
        "\n",
        "$f=2* sin(x)*sin(y)$"
      ],
      "metadata": {
        "id": "RU2r9BNw1fCh"
      }
    },
    {
      "cell_type": "code",
      "source": [
        "# Problem data\n",
        "\n",
        "# call function computing FD system\n",
        "\n",
        "# solve\n",
        "\n"
      ],
      "metadata": {
        "id": "dpkgjfic1fwa"
      },
      "execution_count": null,
      "outputs": []
    },
    {
      "cell_type": "markdown",
      "source": [
        "Plot solution"
      ],
      "metadata": {
        "id": "dTl-r4WJonGx"
      }
    },
    {
      "cell_type": "code",
      "source": [
        "# Prepare data for plotting\n",
        "\n",
        "# Plot the solution\n",
        "fig, ax = plt.subplots(subplot_kw={\"projection\": \"3d\"})\n",
        "surf = ax.plot_surface(X, Y, Uh, cmap=cm.coolwarm,\n",
        "                       linewidth=0, antialiased=False)\n",
        "\n",
        "plt.show()"
      ],
      "metadata": {
        "id": "Vm8cfsRcolY3"
      },
      "execution_count": null,
      "outputs": []
    },
    {
      "cell_type": "markdown",
      "source": [
        "Compute discrete max norm error"
      ],
      "metadata": {
        "id": "1UmjdvJSpUa_"
      }
    },
    {
      "cell_type": "code",
      "source": [
        "# compute exact sol\n",
        "\n",
        "# Print discrete error"
      ],
      "metadata": {
        "id": "nPlZLHBZpZKn"
      },
      "execution_count": null,
      "outputs": []
    },
    {
      "cell_type": "markdown",
      "source": [
        "**Exercise 1**: Run a series of experiments each time halfing the mesh size to each time computing the error and the EOC"
      ],
      "metadata": {
        "id": "A7opZGIcqF3s"
      }
    },
    {
      "cell_type": "markdown",
      "source": [
        "**Exercise 2**: Generalise the FD2D routine to assemble more general elliptic problems. For instance, solve\n",
        "\n",
        "-$\\alpha \\Delta u + {\\bf b}\\cdot \\nabla u + c u =f\\, $ in $\\, \\Omega$,\n",
        "\n",
        "with homogeneous Dirichlet and nonhomogeneous Dirichlet boundary conditions.\n",
        "\n",
        "Write a program to test your routine and check EOC."
      ],
      "metadata": {
        "id": "5b9SxlrfxJ88"
      }
    }
  ]
}