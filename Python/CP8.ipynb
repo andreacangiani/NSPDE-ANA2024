{
  "nbformat": 4,
  "nbformat_minor": 0,
  "metadata": {
    "colab": {
      "provenance": [],
      "authorship_tag": "ABX9TyNZPzLo0MBTtOhSVTvfbMIz",
      "include_colab_link": true
    },
    "kernelspec": {
      "name": "python3",
      "display_name": "Python 3"
    },
    "language_info": {
      "name": "python"
    }
  },
  "cells": [
    {
      "cell_type": "markdown",
      "metadata": {
        "id": "view-in-github",
        "colab_type": "text"
      },
      "source": [
        "<a href=\"https://colab.research.google.com/github/andreacangiani/NSPDE-ANA2024/blob/main/Python/CP8.ipynb\" target=\"_parent\"><img src=\"https://colab.research.google.com/assets/colab-badge.svg\" alt=\"Open In Colab\"/></a>"
      ]
    },
    {
      "cell_type": "markdown",
      "source": [
        "# FEniCS Tutorial 2: solving diffusion problems in 2D"
      ],
      "metadata": {
        "id": "_xNKsr0STBRP"
      }
    },
    {
      "cell_type": "markdown",
      "source": [
        "We start by loading the FEniCSx modules, exaclty as in the previous tutorial."
      ],
      "metadata": {
        "id": "fBMAMfrnTT63"
      }
    },
    {
      "cell_type": "code",
      "execution_count": null,
      "metadata": {
        "id": "WMF6CUwWS29z"
      },
      "outputs": [],
      "source": [
        "try:\n",
        "    import dolfinx\n",
        "except ImportError:\n",
        "    !wget \"https://github.com/fem-on-colab/fem-on-colab.github.io/raw/a3d664e/releases/fenicsx-install-real.sh\" -O \"/tmp/fenicsx-install.sh\" && bash \"/tmp/fenicsx-install.sh\"\n",
        "    import dolfinx"
      ]
    },
    {
      "cell_type": "code",
      "source": [
        "try:\n",
        "    import viskex\n",
        "except ImportError:\n",
        "    !pip3 install \"viskex@git+https://github.com/viskex/viskex.git@f26b326\"\n",
        "    import viskex"
      ],
      "metadata": {
        "id": "Jy79QPMRTdK9"
      },
      "execution_count": null,
      "outputs": []
    },
    {
      "cell_type": "code",
      "source": [
        "import dolfinx.fem\n",
        "import dolfinx.fem.petsc\n",
        "import dolfinx.mesh\n",
        "import mpi4py.MPI\n",
        "import numpy as np\n",
        "import ufl\n",
        "import viskex"
      ],
      "metadata": {
        "id": "uPArpuUgTglM"
      },
      "execution_count": null,
      "outputs": []
    },
    {
      "cell_type": "markdown",
      "source": [
        "We consider the model boundary value problem: find $u: \\Omega = (0, 1)^2 \\to \\mathbb{R}$ such that\n",
        "\\begin{equation*}\n",
        "\\begin{cases}\n",
        "- \\Delta u = f, & \\text{in } \\Omega,\\\\\n",
        "u = g, & \\text{on } \\partial\\Omega.\n",
        "\\end{cases}\n",
        "\\end{equation*}\n",
        "\n",
        "with $f\\equiv 1$ and the boundary value $g(\\mathbf{x})$ given by\n",
        "$$\n",
        "g(\\mathbf{x}) = g(x_0, x_1) = \\sin(3 \\pi x_0 + 1) \\ \\sin(3 \\pi x_1 + 1).\n",
        "$$"
      ],
      "metadata": {
        "id": "5n3yU3bgTqSh"
      }
    },
    {
      "cell_type": "markdown",
      "source": [
        "\n",
        "**Task 1: create a mesh.** As first example, we generate a triangular mesh of the domain $\\Omega$, dividing both the horizontal and vertical sides of the square in nxm equispaced subintervals.\n",
        "\n",
        "Similarly to 1D case, `dolfinx.mesh` provides the function `create_unit_square` for this task."
      ],
      "metadata": {
        "id": "JuPOCXx-T8wV"
      }
    },
    {
      "cell_type": "code",
      "source": [
        "n = 10\n",
        "m = 15\n",
        "mesh = dolfinx.mesh.create_unit_square(mpi4py.MPI.COMM_WORLD, n, m)"
      ],
      "metadata": {
        "id": "pF1Tpx8IUjTz"
      },
      "execution_count": null,
      "outputs": []
    },
    {
      "cell_type": "markdown",
      "source": [
        "Let's see how many cells are in the mesh.\n",
        "\n",
        "We store in:\n",
        "* tdim: the problem dimension (2)\n",
        "* fdim: the mesh scheleton entities dimension (1)\n",
        "* num_cells: the number of triangles in the mesh\n",
        "\n",
        "We can extract the num_cells information as we did in the 1D case from the connectivity or directly..."
      ],
      "metadata": {
        "id": "ef4UIz_thrih"
      }
    },
    {
      "cell_type": "code",
      "source": [
        "tdim =\n",
        "fdim =\n",
        "\n",
        "connectivity_cells_to_vertices = mesh.topology.connectivity(mesh.topology.dim,0)\n",
        "connectivity_cells_to_vertices\n",
        "num_cells = len(connectivity_cells_to_vertices)\n",
        "num_cells\n",
        "\n",
        "num_cells = mesh.topology.index_map(tdim).size_local\n",
        "num_cells"
      ],
      "metadata": {
        "id": "sAmv5f7kbFvS"
      },
      "execution_count": null,
      "outputs": []
    },
    {
      "cell_type": "markdown",
      "source": [
        "We can obtain an interactive plot of the domain using `pyvista`. (Click on the menu: next to the dropdown that contains \"Geometry 0\" you may find three different representations: the domain itself, the edges of the mesh, and both overlayed.)"
      ],
      "metadata": {
        "id": "sQzzflCSVMah"
      }
    },
    {
      "cell_type": "code",
      "source": [
        "viskex.dolfinx.plot_mesh(mesh)"
      ],
      "metadata": {
        "id": "I1osUxojVrPJ"
      },
      "execution_count": null,
      "outputs": []
    },
    {
      "cell_type": "markdown",
      "source": [
        "**Task 2:** Determine IDs of boundary edges in view of the application of the Dirichlet boundary condition.\n",
        "\n",
        "As in 1D case, this is obtained via the `dolfinx.mesh` `locate_entities_boundary` function. We want all edges on the boundary, but the function always requires a third input to permit the selection of parts of the boundary. As a workaround to this, we pass as third argument the function which always returns `True`."
      ],
      "metadata": {
        "id": "asiKDasAWY6n"
      }
    },
    {
      "cell_type": "code",
      "source": [
        "boundary_entities = dolfinx.mesh.locate_entities_boundary(\n",
        "    mesh, fdim, lambda x: np.full((x.shape[1], ), True))\n",
        "boundary_entities"
      ],
      "metadata": {
        "id": "SVXfQiIeWwGc"
      },
      "execution_count": null,
      "outputs": []
    },
    {
      "cell_type": "markdown",
      "source": [
        "We can store the boundary entites in a `dolfinx.mesh` `MeshTags` object, and plot it using `viskex` to check this was done correctly."
      ],
      "metadata": {
        "id": "Z4MIxH8AYV7D"
      }
    },
    {
      "cell_type": "code",
      "source": [
        "boundaries = dolfinx.mesh.meshtags(\n",
        "    mesh, mesh.topology.dim - 1, boundary_entities, np.ones_like(boundary_entities))\n",
        "\n",
        "viskex.dolfinx.plot_mesh_tags(mesh, boundaries, \"boundaries\")"
      ],
      "metadata": {
        "id": "SRVpHc01YdNU"
      },
      "execution_count": null,
      "outputs": []
    },
    {
      "cell_type": "markdown",
      "source": [
        "**Task 3: create FEM space.**\n",
        "\n",
        "Define the finite element function space $V_h$ using $\\mathbb{P}_1$ Lagrange elements.\n",
        "\n",
        "This part of the code is indistinguishable from the 1D version..."
      ],
      "metadata": {
        "id": "NOMQFzZJmVTd"
      }
    },
    {
      "cell_type": "code",
      "source": [
        "Vh ="
      ],
      "metadata": {
        "id": "D1QNin0imfl4"
      },
      "execution_count": null,
      "outputs": []
    },
    {
      "cell_type": "markdown",
      "source": [
        "... and compute its dimension"
      ],
      "metadata": {
        "id": "0vWpPzr5mmI3"
      }
    },
    {
      "cell_type": "code",
      "source": [
        "Vh_dim =\n",
        "Vh_dim"
      ],
      "metadata": {
        "id": "iKYaXya1mozq"
      },
      "execution_count": null,
      "outputs": []
    },
    {
      "cell_type": "markdown",
      "source": [
        "Once the FE space is at hand, we introduce ufl symbols to define the trial and test functions for our weak formulation:"
      ],
      "metadata": {
        "id": "gfq7b2dRmzIF"
      }
    },
    {
      "cell_type": "code",
      "source": [
        "uh =\n",
        "vh ="
      ],
      "metadata": {
        "id": "srnG2gYjnAfD"
      },
      "execution_count": null,
      "outputs": []
    },
    {
      "cell_type": "markdown",
      "source": [
        "**Task 4:** set up FEM system\n",
        "\n",
        "We produce the weak formulation of the problem: find $u_h\\in V_h$ such that\n",
        "$$ \\int_\\Omega \\nabla u \\cdot \\nabla v \\ \\mathrm{d} \\mathbf{x} = \\int_\\Omega f \\ v \\ \\mathrm{d} \\mathbf{x},\\qquad\\forall v_h\\in V_h$$\n",
        "using `ufl`."
      ],
      "metadata": {
        "id": "6O-LPzYQnK5L"
      }
    },
    {
      "cell_type": "code",
      "source": [
        "dx =\n",
        "inner =\n",
        "grad =\n",
        "A ="
      ],
      "metadata": {
        "id": "34_EvwwYnilD"
      },
      "execution_count": null,
      "outputs": []
    },
    {
      "cell_type": "code",
      "source": [
        "F ="
      ],
      "metadata": {
        "id": "JLZ2N4eeooHb"
      },
      "execution_count": null,
      "outputs": []
    },
    {
      "cell_type": "markdown",
      "source": [
        "**Task 5:** set up the boundary conditions\n",
        "\n",
        "In order to assign the boundary condition we first need to evaluate the expression of $g$ (i.e. $\\sin(3 \\pi x_0 + 1) \\ \\sin(3 \\pi x_1 + 1)$ in our case) on the finite element space $V_h$. We do this by interpolation, so we define the discrete boundary condition as\n",
        "$$g_h=I_h g$$\n",
        "\n",
        "with $I_h$ the interpolation operator."
      ],
      "metadata": {
        "id": "20lvPHWOFAb-"
      }
    },
    {
      "cell_type": "code",
      "source": [
        "gh = dolfinx.fem.Function(Vh)\n",
        "gh.interpolate(lambda x: np.sin(3 * np.pi * x[0] + 1) * np.sin(3 * np.pi * x[1] + 1))"
      ],
      "metadata": {
        "id": "zCKAWD0ME_6m"
      },
      "execution_count": null,
      "outputs": []
    },
    {
      "cell_type": "markdown",
      "source": [
        "We then initialize a `dolfinx.fem` `dirichletbc` object, stating that the Dirichlet boundary condition should be equal to `gh` on each facet in `boundary_entities`."
      ],
      "metadata": {
        "id": "ivZhXNbxHEZo"
      }
    },
    {
      "cell_type": "code",
      "source": [
        "boundary_dofs = dolfinx.fem.locate_dofs_topological(Vh, fdim, boundary_entities)\n",
        "bc = dolfinx.fem.dirichletbc(gh, boundary_dofs)"
      ],
      "metadata": {
        "id": "BeL2pvXvHKLl"
      },
      "execution_count": null,
      "outputs": []
    },
    {
      "cell_type": "markdown",
      "source": [
        "**Task 6:** solve the FEM system.\n",
        "\n",
        "As in 1D case, we have to first provide a `Function` class to store the solution of a finite element problem and then we are ready to solve the discrete problem allocating a new `LinearProblem` (which uses `PETSc`), providing as input the bilinear form `a`, the linear functional `F`, the boundary conditions `bcs`, and where to store the solution. Further solver options can also be passed to `PETSc`."
      ],
      "metadata": {
        "id": "4yPtHI-hHfuA"
      }
    },
    {
      "cell_type": "code",
      "source": [
        "solution ="
      ],
      "metadata": {
        "id": "pOevHkspHm81"
      },
      "execution_count": null,
      "outputs": []
    },
    {
      "cell_type": "code",
      "source": [
        "problem = dolfinx.fem.petsc.LinearProblem(\n",
        "    A, F, bcs=[bc], u=solution,\n",
        "    petsc_options={\"ksp_type\": \"preonly\", \"pc_type\": \"lu\", \"pc_factor_mat_solver_type\": \"mumps\"})\n",
        "_ = problem.solve()"
      ],
      "metadata": {
        "id": "TTmev_CpICDD"
      },
      "execution_count": null,
      "outputs": []
    },
    {
      "cell_type": "markdown",
      "source": [
        "**Task7:** plot the solution"
      ],
      "metadata": {
        "id": "zpCAqJaFIHgJ"
      }
    },
    {
      "cell_type": "code",
      "source": [
        "viskex.dolfinx.plot_scalar_field(solution, \"u_h\")"
      ],
      "metadata": {
        "id": "1WiMjCEgIL_6"
      },
      "execution_count": null,
      "outputs": []
    },
    {
      "cell_type": "markdown",
      "source": [
        "And here is a3D plot:"
      ],
      "metadata": {
        "id": "o8TKxXjpJAHj"
      }
    },
    {
      "cell_type": "code",
      "source": [
        "viskex.dolfinx.plot_scalar_field(solution, \"u_h\", warp_factor=0.1)"
      ],
      "metadata": {
        "id": "68FcGJtpJCTR"
      },
      "execution_count": null,
      "outputs": []
    },
    {
      "cell_type": "markdown",
      "source": [
        "# Computing errors"
      ],
      "metadata": {
        "id": "2IOUJkT9XM-6"
      }
    },
    {
      "cell_type": "markdown",
      "source": [
        "To test convergence, let us consider a problem where we fix the exact solution. Find $u: \\Omega \\to \\mathbb{R}$ such that\n",
        "\\begin{equation*}\n",
        "\\begin{cases}\n",
        "- \\Delta u = f, & \\text{in } \\Omega,\\\\\n",
        "u = g, & \\text{on } \\partial\\Omega,\n",
        "\\end{cases}\n",
        "\\end{equation*}\n",
        "where\n",
        "$$\\Omega = (0, 1)^2$$\n",
        "and $f$ and $g$ are chosen such that the exact solution to the strong formulation is\n",
        "$$u_{\\text{ex}}(x, y) = \\sin(2 \\pi x) \\ \\cos(2 \\pi y).$$\n",
        "\n",
        "Thus,\n",
        "$$f := - \\Delta u_{\\text{ex}} = - \\partial_{xx} u_{\\text{ex}} - \\partial_{yy} u_{\\text{ex}} = 8 \\pi^2 \\ \\sin(2 \\pi x) \\ \\cos(2 \\pi y).$$\n",
        "> Furthermore, by splitting the boundary $\\partial\\Omega$ in the four sides of the square $\\Omega$, we have\n",
        "\\begin{equation*}\n",
        "\\begin{cases}\n",
        "g_1(y) = g(0, y) := u_{\\text{ex}}(0, y) = 0, & \\text{on } \\Gamma_1 = \\left\\{0\\right\\} \\times [0, 1],\\\\\n",
        "g_2(x) = g(x, 0) := u_{\\text{ex}}(x, 0) = \\sin(2 \\pi x), & \\text{on } \\Gamma_2 = [0, 1] \\times \\left\\{0\\right\\},\\\\\n",
        "g_3(y) = g(1, y) := u_{\\text{ex}}(1, y) = 0, & \\text{on } \\Gamma_3 = \\left\\{1\\right\\} \\times [0, 1],\\\\\n",
        "g_4(y) = g(x, 1) := u_{\\text{ex}}(x, 1) = \\sin(2 \\pi x), & \\text{on } \\Gamma_4 = [0, 1] \\times \\left\\{1\\right\\},\\\\\n",
        "\\end{cases}\n",
        "\\end{equation*}"
      ],
      "metadata": {
        "id": "QDBFhz38XTlg"
      }
    },
    {
      "cell_type": "markdown",
      "source": [
        "We want to generate a structured triangular mesh of the domain Ω, dividing both the horizontal and vertical sides of the square in n equispaced subintervals. The function should also locate boundaries Γ1,Γ2,Γ3 and Γ4.\n",
        "\n",
        "We write the function unit_square_structured_mesh(n) using the builtin dolfinx.mesh.create_unit_square structured mesh generator and the boundary marking through four calls to dolfinx.mesh.locate_entities_boundary."
      ],
      "metadata": {
        "id": "M52lSSOmXzuw"
      }
    },
    {
      "cell_type": "markdown",
      "source": [
        "First we require a few more imports."
      ],
      "metadata": {
        "id": "BNH5UaXmZnBm"
      }
    },
    {
      "cell_type": "code",
      "source": [
        "import petsc4py.PETSc\n",
        "import typing"
      ],
      "metadata": {
        "id": "SJhx-xt0YgSZ"
      },
      "execution_count": null,
      "outputs": []
    },
    {
      "cell_type": "code",
      "source": [
        "def unit_square_structured_mesh(n: int) -> typing.Tuple[dolfinx.mesh.Mesh, typing.Dict[int, np.ndarray]]:\n",
        "    \"\"\"Generate a structured mesh of the unit square, and locate its four boundaries.\"\"\"\n",
        "    # Generate structured mesh\n",
        "    mesh = dolfinx.mesh.create_unit_square(mpi4py.MPI.COMM_WORLD, n, n)\n",
        "\n",
        "    # Locate boundary entities\n",
        "    boundaries = {\n",
        "        1: dolfinx.mesh.locate_entities_boundary(mesh, mesh.topology.dim - 1, lambda x: np.isclose(x[0], 0.0)),\n",
        "        2: dolfinx.mesh.locate_entities_boundary(mesh, mesh.topology.dim - 1, lambda x: np.isclose(x[1], 0.0)),\n",
        "        3: dolfinx.mesh.locate_entities_boundary(mesh, mesh.topology.dim - 1, lambda x: np.isclose(x[0], 1.0)),\n",
        "        4: dolfinx.mesh.locate_entities_boundary(mesh, mesh.topology.dim - 1, lambda x: np.isclose(x[1], 1.0))\n",
        "    }\n",
        "\n",
        "    # Return\n",
        "    return mesh, boundaries"
      ],
      "metadata": {
        "id": "VX37nR3yXydC"
      },
      "execution_count": null,
      "outputs": []
    },
    {
      "cell_type": "markdown",
      "source": [
        "Next we write the function `unit_square_poisson_solve(mesh, boundaries, order)` combining the usual steps that we carry out when solving a finite element problem with FEniCS: (i) definition of a finite element space, (ii) definition of the weak form, (iii) definition of the boundary conditions, (iv) linear system assembly, and (v) linear system solve.\n",
        "\n",
        "For the solving fase, we access the library KSP of linear system solvers from PETSc"
      ],
      "metadata": {
        "id": "OsAczWVoZX2g"
      }
    },
    {
      "cell_type": "code",
      "source": [
        "def unit_square_poisson_solve(\n",
        "    mesh: dolfinx.mesh.Mesh, boundaries: typing.Dict[int, np.ndarray], order: int\n",
        ") -> typing.Tuple[dolfinx.fem.functionspace, petsc4py.PETSc.Mat, dolfinx.fem.Function]:\n",
        "    \"\"\"Solve a Poisson problem on the unit square.\"\"\"\n",
        "    # Function space\n",
        "    Vh = dolfinx.fem.functionspace(mesh, (\"Lagrange\", order))\n",
        "\n",
        "    # Weak form\n",
        "    uh = ufl.TrialFunction(Vh)\n",
        "    vh = ufl.TestFunction(Vh)\n",
        "    x = ufl.SpatialCoordinate(mesh)\n",
        "    f = 8 * ufl.pi**2 * ufl.sin(2 * ufl.pi * x[0]) * ufl.cos(2 * ufl.pi * x[1])\n",
        "    dx = ufl.dx\n",
        "    inner = ufl.inner\n",
        "    grad = ufl.grad\n",
        "    a = inner(grad(uh), grad(vh)) * dx\n",
        "    F = f * vh * dx\n",
        "\n",
        "    # Boundary conditions\n",
        "    boundary_value = dolfinx.fem.Function(Vh)\n",
        "    boundary_value.interpolate(lambda x: np.sin(2 * np.pi * x[0]))\n",
        "    zero = dolfinx.fem.Constant(mesh, 0.0)\n",
        "    boundary_dofs = {\n",
        "        i: dolfinx.fem.locate_dofs_topological(Vh, mesh.topology.dim - 1, boundaries[i]) for i in range(1, 5)}\n",
        "\n",
        "    bcs = [\n",
        "        dolfinx.fem.dirichletbc(zero, boundary_dofs[1], Vh),\n",
        "        dolfinx.fem.dirichletbc(boundary_value, boundary_dofs[2]),\n",
        "        dolfinx.fem.dirichletbc(zero, boundary_dofs[3], Vh),\n",
        "        dolfinx.fem.dirichletbc(boundary_value, boundary_dofs[4])]\n",
        "\n",
        "    # Assemble system\n",
        "    a_cpp = dolfinx.fem.form(a)\n",
        "    F_cpp = dolfinx.fem.form(F)\n",
        "    A = dolfinx.fem.petsc.assemble_matrix(a_cpp, bcs)\n",
        "    A.assemble()\n",
        "    b = dolfinx.fem.petsc.assemble_vector(F_cpp)\n",
        "    dolfinx.fem.petsc.apply_lifting(b, [a_cpp], [bcs])\n",
        "    dolfinx.fem.petsc.set_bc(b, bcs)\n",
        "\n",
        "    # Solve\n",
        "    solution = dolfinx.fem.Function(Vh)\n",
        "    ksp = petsc4py.PETSc.KSP()\n",
        "    ksp.create(mesh.comm)\n",
        "    ksp.setOperators(A)\n",
        "    ksp.setType(\"preonly\")\n",
        "    ksp.getPC().setType(\"lu\")\n",
        "    ksp.getPC().setFactorSolverType(\"mumps\")\n",
        "    ksp.setFromOptions()\n",
        "    ksp.solve(b, solution.vector)\n",
        "\n",
        "    # Return\n",
        "    return Vh, A, solution"
      ],
      "metadata": {
        "id": "Fn35gtdmZSwA"
      },
      "execution_count": null,
      "outputs": []
    },
    {
      "cell_type": "markdown",
      "source": [
        "Let's test it"
      ],
      "metadata": {
        "id": "ErNq4I5Taf20"
      }
    },
    {
      "cell_type": "code",
      "source": [
        "Vh, A, solution = unit_square_poisson_solve(mesh, boundaries, 1)\n",
        "viskex.dolfinx.plot_scalar_field(solution, \"u_h\")"
      ],
      "metadata": {
        "id": "v3K5qdRGaipu"
      },
      "execution_count": null,
      "outputs": []
    },
    {
      "cell_type": "markdown",
      "source": [
        "Finally, the main task: computing errors.\n",
        "\n",
        "To this end, we write a function `unit_square_solution_error(mesh, solution, space)` that computes the norm of the error between a finite element solution and the exact solution to the Poisson problem on the domain $\\Omega$. The first input argument `mesh` contains the mesh of $\\Omega$, the second input argument `solution` contains the finite element solution, while the norm definition is derived from the third input argument `space` (if `space == 0`, the $L^2(\\Omega) = H^0(\\Omega)$ norm is used, while if `space == 1` the $H^1(\\Omega)$ norm is used).\n",
        "\n",
        "The function implments the following steps: (i) definition of the exact solution, (ii) computation of the difference between the finite element solution and the exact solution, (iii) representation of the square of norm of the error in `ufl`, (iv) evaluation of the square of norm of the error by assembling the `ufl` representation, and (v) application of a square root (do not forget this!) to get the error from its square.\n",
        "\n",
        "> Indented block\n",
        "\n"
      ],
      "metadata": {
        "id": "LD2lLvZba3Vl"
      }
    },
    {
      "cell_type": "code",
      "source": [
        "def unit_square_solution_error(\n",
        "    mesh: dolfinx.mesh.Mesh, solution: dolfinx.fem.Function, space: int\n",
        ") -> float:\n",
        "    \"\"\"Compute the error between the FE solution and the exact solution.\"\"\"\n",
        "    # Definition of the exact solution\n",
        "    x = ufl.SpatialCoordinate(mesh)\n",
        "    u_ex = ufl.sin(2 * ufl.pi * x[0]) * ufl.cos(2 * ufl.pi * x[1])\n",
        "\n",
        "    # Computation of the difference between the finite element solution and the exact solution\n",
        "    diff = solution - u_ex\n",
        "\n",
        "    # UFL representation of the square of the norm of the error depending on the input argument space\n",
        "    dx = ufl.dx\n",
        "    if space == 0:\n",
        "        eh_squared_ufl = diff * diff * dx\n",
        "    elif space == 1:\n",
        "        inner = ufl.inner\n",
        "        grad = ufl.grad\n",
        "        eh_squared_ufl = diff * diff * dx + inner(grad(diff), grad(diff)) * dx\n",
        "    else:\n",
        "        raise RuntimeError(\"Invalid space.\")\n",
        "\n",
        "    # Evaluation of the square of the norm of the error by assembling the UFL representation\n",
        "    eh_squared = dolfinx.fem.assemble_scalar(dolfinx.fem.form(eh_squared_ufl))\n",
        "\n",
        "    # Compute the square root and return\n",
        "    return np.sqrt(eh_squared)"
      ],
      "metadata": {
        "id": "68J1imsNbKzu"
      },
      "execution_count": null,
      "outputs": []
    },
    {
      "cell_type": "markdown",
      "source": [
        "We test the implementation on the solution we have obtained from the mesh with $n = 10$ and $\\mathbb{P}^1$ finite elements."
      ],
      "metadata": {
        "id": "2ciS6RiVbPQ9"
      }
    },
    {
      "cell_type": "markdown",
      "source": [
        "Here is the L2 error"
      ],
      "metadata": {
        "id": "qYxR45T7bbUU"
      }
    },
    {
      "cell_type": "code",
      "source": [
        "unit_square_solution_error(mesh, solution, 0)"
      ],
      "metadata": {
        "id": "5AE-D9_NbQGe"
      },
      "execution_count": null,
      "outputs": []
    },
    {
      "cell_type": "markdown",
      "source": [
        "And the H1 error"
      ],
      "metadata": {
        "id": "kvCjdU04beBE"
      }
    },
    {
      "cell_type": "code",
      "source": [
        "unit_square_solution_error(mesh, solution, 1)"
      ],
      "metadata": {
        "id": "fJcjqpB1bZwW"
      },
      "execution_count": null,
      "outputs": []
    },
    {
      "cell_type": "markdown",
      "source": [
        "**Exercise 1:** Check the rate of convergence by running a series of experiments. (See, eg.  CP5)"
      ],
      "metadata": {
        "id": "4cN1KSvIdP80"
      }
    },
    {
      "cell_type": "markdown",
      "source": [
        "# Working with subdomains"
      ],
      "metadata": {
        "id": "_k_oWWpCLBM_"
      }
    },
    {
      "cell_type": "markdown",
      "source": [
        "We now solve the same problem but with the forcing function given by:\n",
        "\n",
        "$$\n",
        "f(\\mathbf{x}) = \\begin{cases}\n",
        "50, & \\mathbf{x} \\in [0.2, 0.8]^2,\\\\\n",
        "1, & \\text{otherwise},\n",
        "\\end{cases}\n",
        "$$\n"
      ],
      "metadata": {
        "id": "pdIpkRmtMffA"
      }
    },
    {
      "cell_type": "markdown",
      "source": [
        "We shall code this using by defining two subdomains:\n",
        "$$\\Omega_2 = [0.2, 0.8]^2 \\quad \\text{and} \\quad \\Omega_1 = \\Omega \\setminus \\Omega_0$$\n",
        "\n",
        " In order to do so, we need to ensure that the mesh is alligned with the subdomains. For instance, we can take $n=m=10$:"
      ],
      "metadata": {
        "id": "HNWURYx1NsdW"
      }
    },
    {
      "cell_type": "code",
      "source": [
        "n = 10\n",
        "m = 10\n",
        "mesh = dolfinx.mesh.create_unit_square(mpi4py.MPI.COMM_WORLD, n, m)\n",
        "\n",
        "num_cells = mesh.topology.index_map(tdim).size_local\n",
        "num_cells"
      ],
      "metadata": {
        "id": "9UA5SYccOXy-"
      },
      "execution_count": null,
      "outputs": []
    },
    {
      "cell_type": "code",
      "source": [
        "viskex.dolfinx.plot_mesh(mesh)"
      ],
      "metadata": {
        "id": "aJKirouJOiZq"
      },
      "execution_count": null,
      "outputs": []
    },
    {
      "cell_type": "code",
      "source": [
        "boundary_entities = dolfinx.mesh.locate_entities_boundary(\n",
        "    mesh, fdim, lambda x: np.full((x.shape[1], ), True))\n",
        "boundary_entities"
      ],
      "metadata": {
        "id": "Nc_S0bJNOwg-"
      },
      "execution_count": null,
      "outputs": []
    },
    {
      "cell_type": "markdown",
      "source": [
        "**New Task:** Define the two subdomains $\\Omega_1$ and $\\Omega_2$ in view of the implementation of the forcing function $f$.\n",
        "\n",
        "*   mark $\\Omega_1$ and $\\Omega_2$ with labels `1` and `2`\n",
        "*   use the `dolfinx.mesh` function `locate_entities` to determine whether a cell is in $\\Omega_2$. This function checks each of the three vertices of the triangular cell, and locates all cells in which the provided condition is satisfied on all three vertices."
      ],
      "metadata": {
        "id": "i1_BNXZwYxlE"
      }
    },
    {
      "cell_type": "code",
      "source": [
        "inner_subdomain_entities = dolfinx.mesh.locate_entities(\n",
        "    mesh, mesh.topology.dim, lambda x: np.logical_and(\n",
        "        np.logical_and(x[0] >= 0.2, x[0] <= 0.8),\n",
        "        np.logical_and(x[1] >= 0.2, x[1] <= 0.8)))\n",
        "inner_subdomain_entities"
      ],
      "metadata": {
        "id": "lYVPmDpJaxet"
      },
      "execution_count": null,
      "outputs": []
    },
    {
      "cell_type": "markdown",
      "source": [
        "We label each cell in $\\Omega_2$ with the label `2` by using the `np.full` function which return a new array with shape of input filled with value."
      ],
      "metadata": {
        "id": "TSV13ZuEiZf8"
      }
    },
    {
      "cell_type": "code",
      "source": [
        "inner_subdomains_labels = np.full(inner_subdomain_entities.shape, 2, dtype=np.intc)\n",
        "inner_subdomains_labels"
      ],
      "metadata": {
        "id": "p0TrhbrEe-qh"
      },
      "execution_count": null,
      "outputs": []
    },
    {
      "cell_type": "markdown",
      "source": [
        "The remaining cells will belong to $\\Omega_1$. Recall that in num_cells we have stored the total number of cells\n"
      ],
      "metadata": {
        "id": "VG7DBQ5wfYbj"
      }
    },
    {
      "cell_type": "code",
      "source": [
        "outer_subdomain_entities = np.setdiff1d(np.arange(num_cells), inner_subdomain_entities)\n",
        "outer_subdomain_entities"
      ],
      "metadata": {
        "id": "6yYZG9FqfcbD"
      },
      "execution_count": null,
      "outputs": []
    },
    {
      "cell_type": "code",
      "source": [
        "outer_subdomains_labels = np.full(outer_subdomain_entities.shape, 1, dtype=np.intc)\n",
        "outer_subdomains_labels"
      ],
      "metadata": {
        "id": "Nc4fxsJLfzcJ"
      },
      "execution_count": null,
      "outputs": []
    },
    {
      "cell_type": "markdown",
      "source": [
        "We then store both subdomains in a `dolfinx.mesh` `MeshTags` object."
      ],
      "metadata": {
        "id": "jM9Li2apbfzF"
      }
    },
    {
      "cell_type": "code",
      "source": [
        "subdomains_entities_unsorted = np.hstack((outer_subdomain_entities, inner_subdomain_entities)).astype(np.int32)\n",
        "subdomains_values_unsorted = np.hstack((outer_subdomains_labels, inner_subdomains_labels)).astype(np.int32)\n",
        "subdomains_entities_argsort = np.argsort(subdomains_entities_unsorted)\n",
        "subdomains_entities_sorted = subdomains_entities_unsorted[subdomains_entities_argsort]\n",
        "subdomains_values_sorted = subdomains_values_unsorted[subdomains_entities_argsort]\n",
        "subdomains = dolfinx.mesh.meshtags(\n",
        "    mesh, mesh.topology.dim, subdomains_entities_sorted, subdomains_values_sorted)"
      ],
      "metadata": {
        "id": "X5RpQDDNbgh2"
      },
      "execution_count": null,
      "outputs": []
    },
    {
      "cell_type": "markdown",
      "source": [
        "We finally plot with `pyvista` the subdomains to verify the correct assignment of the label."
      ],
      "metadata": {
        "id": "ecBWYU0Gbqc-"
      }
    },
    {
      "cell_type": "code",
      "source": [
        "viskex.dolfinx.plot_mesh_tags(mesh, subdomains, \"subdomains\")"
      ],
      "metadata": {
        "id": "pxuoZpcMbqBz"
      },
      "execution_count": null,
      "outputs": []
    },
    {
      "cell_type": "markdown",
      "source": [
        "Defining the FEM space is as before:"
      ],
      "metadata": {
        "id": "HWx3IFLIQxLI"
      }
    },
    {
      "cell_type": "code",
      "source": [
        "Vh = dolfinx.fem.functionspace(mesh, (\"Lagrange\", 1))\n",
        "\n",
        "Vh_dim = Vh.dofmap.index_map.size_local\n",
        "Vh_dim"
      ],
      "metadata": {
        "id": "XjYuCIjDQ0z7"
      },
      "execution_count": null,
      "outputs": []
    },
    {
      "cell_type": "code",
      "source": [
        "uh = ufl.TrialFunction(Vh)\n",
        "vh = ufl.TestFunction(Vh)"
      ],
      "metadata": {
        "id": "LpwbJzkIQ6vQ"
      },
      "execution_count": null,
      "outputs": []
    },
    {
      "cell_type": "markdown",
      "source": [
        "In order to write this problem in `ufl`, we need to inform the integral measure `dx` of the subdomain labels, using `ufl.Measure` and providing as data the `subdomains` object that we have created."
      ],
      "metadata": {
        "id": "WHTEGxESn7Uq"
      }
    },
    {
      "cell_type": "code",
      "source": [
        "dx = ufl.Measure(\"dx\")(subdomain_data=subdomains)"
      ],
      "metadata": {
        "id": "l8IKuU_WIY57"
      },
      "execution_count": null,
      "outputs": []
    },
    {
      "cell_type": "markdown",
      "source": [
        "The bilinear form is straighforward:"
      ],
      "metadata": {
        "id": "CjWnyJz1n9AH"
      }
    },
    {
      "cell_type": "code",
      "source": [
        "inner = ufl.inner\n",
        "grad = ufl.grad\n",
        "A = inner(grad(uh), grad(vh)) * dx"
      ],
      "metadata": {
        "id": "ZhVaFywEKxPb"
      },
      "execution_count": null,
      "outputs": []
    },
    {
      "cell_type": "markdown",
      "source": [
        "> We further define the linear functional\n",
        "> $$ F(v) = \\int_\\Omega f \\ v \\ \\mathrm{d}\\mathbf{x} = \\int_{\\Omega_1} v \\ \\mathrm{d}\\mathbf{x} + \\int_{\\Omega_2} 10 \\ v \\ \\mathrm{d}\\mathbf{x}.$$\n",
        "> In order to implement this in `ufl`, we use `dx(1)` to define integration over $\\Omega_1$, and similarly `dx(2)` to define integration over $\\Omega_2$."
      ],
      "metadata": {
        "id": "3TnngdU-VhXn"
      }
    },
    {
      "cell_type": "code",
      "source": [
        "F = vh * dx(1) + 50 * vh * dx(0)"
      ],
      "metadata": {
        "id": "CzSrFjmXLT2z"
      },
      "execution_count": null,
      "outputs": []
    },
    {
      "cell_type": "markdown",
      "source": [
        "The rest is as before:"
      ],
      "metadata": {
        "id": "hjtN_RU9LY9p"
      }
    },
    {
      "cell_type": "code",
      "source": [
        "gh = dolfinx.fem.Function(Vh)\n",
        "gh.interpolate(lambda x: np.sin(3 * np.pi * x[0] + 1) * np.sin(3 * np.pi * x[1] + 1))\n",
        "\n",
        "boundary_dofs = dolfinx.fem.locate_dofs_topological(Vh, fdim, boundary_entities)\n",
        "bc = dolfinx.fem.dirichletbc(gh, boundary_dofs)\n",
        "\n",
        "solution = dolfinx.fem.Function(Vh)\n",
        "\n",
        "problem = dolfinx.fem.petsc.LinearProblem(\n",
        "    A, F, bcs=[bc], u=solution,\n",
        "    petsc_options={\"ksp_type\": \"preonly\", \"pc_type\": \"lu\", \"pc_factor_mat_solver_type\": \"mumps\"})\n",
        "_ = problem.solve()"
      ],
      "metadata": {
        "id": "hpOGN-NCLbDV"
      },
      "execution_count": null,
      "outputs": []
    },
    {
      "cell_type": "code",
      "source": [
        "viskex.dolfinx.plot_scalar_field(solution, \"u_h\")"
      ],
      "metadata": {
        "id": "b9VKGEB4L7xg"
      },
      "execution_count": null,
      "outputs": []
    },
    {
      "cell_type": "markdown",
      "source": [
        "**Exercise 2:** Use the subdomain idea to solve the problem: find $u: \\Omega = (0, 1)^2 \\to \\mathbb{R}$ such that\n",
        "\\begin{equation*}\n",
        "\\begin{cases}\n",
        "- \\nabla (\\kappa \\nabla u) = f, & \\text{in } \\Omega,\\\\\n",
        "u = g, & \\text{on } \\partial\\Omega.\n",
        "\\end{cases}\n",
        "\\end{equation*}\n",
        "with $f$  and $g$ as before and\n",
        "$$\n",
        "\\kappa(\\mathbf{x}) = \\begin{cases}\n",
        "1, & \\mathbf{x} \\in [0.2, 0.8]^2,\\\\\n",
        "0.1, & \\text{otherwise},\n",
        "\\end{cases}\n",
        "$$\n"
      ],
      "metadata": {
        "id": "MiVeXHdlRjtE"
      }
    },
    {
      "cell_type": "markdown",
      "source": [
        "**Exercise 3:** By yourself or using the official tutorial\n",
        "\n",
        "https://jorgensd.github.io/dolfinx-tutorial/index.html\n",
        "\n",
        "as reference, find out how to use the subdomain idea to define different boundary conditions. For instance, solve with:\n",
        "$$\n",
        "u = g \\quad\\text{if } \\quad x=0 \\quad \\text{or}\\quad  x=1,\n",
        "$$\n",
        "and\n",
        "$$\n",
        "-\\frac{\\partial u}{\\partial {\\mathbf n}} = h \\quad \\text{otherwise}.\n",
        "$$\n",
        "with\n",
        "$$\n",
        "h(x,y)=\n",
        "\\left\\{\n",
        "\\begin{array}{ll}\n",
        "0 & \\text{if } y=0\\\\\n",
        "-4 & \\text{if } y=1.\n",
        "\\end{array}\n",
        "\\right.\n",
        "$$\n",
        "\n"
      ],
      "metadata": {
        "id": "ZpKMz1KsSniE"
      }
    }
  ]
}