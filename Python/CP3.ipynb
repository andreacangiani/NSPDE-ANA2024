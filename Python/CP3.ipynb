{
  "nbformat": 4,
  "nbformat_minor": 0,
  "metadata": {
    "colab": {
      "name": "C3.ipynb",
      "provenance": [],
      "authorship_tag": "ABX9TyMaweeIvb4Mr8ggi1tGt3e1",
      "include_colab_link": true
    },
    "kernelspec": {
      "name": "python3",
      "display_name": "Python 3"
    },
    "language_info": {
      "name": "python"
    }
  },
  "cells": [
    {
      "cell_type": "markdown",
      "metadata": {
        "id": "view-in-github",
        "colab_type": "text"
      },
      "source": [
        "<a href=\"https://colab.research.google.com/github/andreacangiani/NSPDE-ANA2024/blob/main/Python/CP3.ipynb\" target=\"_parent\"><img src=\"https://colab.research.google.com/assets/colab-badge.svg\" alt=\"Open In Colab\"/></a>"
      ]
    },
    {
      "cell_type": "markdown",
      "source": [
        "# Finite Difference for 1D reaction-advection-diffusion problem"
      ],
      "metadata": {
        "id": "EYPTFFAQN3BY"
      }
    },
    {
      "cell_type": "markdown",
      "source": [
        "1. Finite Difference solver for the reaction-advection-diffusion problem with nonconstant coefficients:\n",
        "\n",
        "$-\\alpha(x) u''(x)+\\beta(x) u'(x)+\\gamma(x) u(x)=f(x) \\quad \\in (a,b)$\n",
        "\n",
        "$u(a)=0, \\quad u(b)=0$.\n",
        "\n",
        "Implement FD method including the boundary conditions in the system."
      ],
      "metadata": {
        "id": "VXF0WBPFNRtO"
      }
    },
    {
      "cell_type": "code",
      "execution_count": null,
      "metadata": {
        "id": "cVTxIyM7NFyh"
      },
      "outputs": [],
      "source": [
        "import numpy as np\n",
        "import matplotlib.pyplot as plt\n",
        "import scipy.sparse as sp\n",
        "from scipy.sparse.linalg import spsolve"
      ]
    },
    {
      "cell_type": "markdown",
      "source": [
        "Function computing the 1D FD algebric system"
      ],
      "metadata": {
        "id": "SRJ5pqdRPUtH"
      }
    },
    {
      "cell_type": "code",
      "source": [
        "def FD1D(omega,N,alpha,beta,gamma,rhs):\n",
        "  # FD system matrix and rhs for\n",
        "  # diffusion-advection-reaction problem with coeffs\n",
        "  # alpha,beta,gamma,rhs\n",
        "  # homogeneous Dirichlet bc\n",
        "  # uniform grid in sparse CSR format\n",
        "\n",
        "  # grid\n",
        "\n",
        "  # compute coeffs and rhs values\n",
        "\n",
        "  # assemble system matrix\n",
        "\n",
        "  # modify system to account for homogeneous Dirichlet boundary conditions\n",
        "\n",
        "  return A, F"
      ],
      "metadata": {
        "id": "Csg0gbiITqSg"
      },
      "execution_count": null,
      "outputs": []
    },
    {
      "cell_type": "markdown",
      "source": [
        "Solve the boundary value problem with:\n",
        "\n",
        "$a=0,\\, b=Π$\n",
        "\n",
        "$\\alpha(x)=1+\\sin(x),\\,  \\beta(x)=1,\\, \\gamma(x)=x$"
      ],
      "metadata": {
        "id": "gRfVSvNTJg03"
      }
    },
    {
      "cell_type": "code",
      "source": [
        "# Problem domain\n",
        "\n",
        "# Problem data\n",
        "\n",
        "# Grid parameters\n",
        "\n",
        "# Assemble FD system\n",
        "\n",
        "# solve\n",
        "\n",
        "# plot solution\n"
      ],
      "metadata": {
        "id": "ZOZf2ZiTJjO5"
      },
      "execution_count": null,
      "outputs": []
    },
    {
      "cell_type": "markdown",
      "source": [
        "Compute experimental order of convergence (EOC) using knowledge that\n",
        "\n",
        "$|| U-U_h ||_\\infty \\approx C h^k$\n",
        "\n",
        "with $C$ independent of $h$. Hence,\n",
        "\n",
        "$\\frac{|| U-U_{h_1} ||_\\infty}{|| U-U_{h_2} ||_\\infty}\\approx\\large(\\frac{h_1}{h_1}\\large)^k$,\n",
        "\n",
        "and then,\n",
        "\n",
        "$k\\approx\\frac{\\log || U-U_{h_1} ||_\\infty-\\log|| U-U_{h_2} ||_\\infty}{\\log h_1 - \\log h_2}$.\n",
        "\n",
        "Notice that to estimate the EOC you need to run at least two experiments, for instance with $h_1=h$, $h_2=h/2$."
      ],
      "metadata": {
        "id": "ohPbdO6sTsaw"
      }
    },
    {
      "cell_type": "markdown",
      "source": [
        "For simplicity, let's take\n",
        "\n",
        "$\\alpha(x)=1,\\,  \\beta(x)=0,\\, \\gamma(x)=0$\n",
        "\n",
        "and\n",
        "\n",
        "$u=sin(x)$ so that $f=sin(x)$\n"
      ],
      "metadata": {
        "id": "Cc7f28z4qrVf"
      }
    },
    {
      "cell_type": "code",
      "source": [
        "# Problem domain\n",
        "\n",
        "# Problem data\n",
        "\n",
        "# Number of experiments\n",
        "\n",
        "# initialise with first experiment\n",
        "\n",
        "# evaluate system for given N\n",
        "\n",
        "# Solve\n",
        "\n",
        "# compute error\n",
        "\n",
        "# loop over remaining experiments\n",
        "\n",
        "  # fix the mesh\n",
        "\n",
        "  # evaluate system for given N\n",
        "\n",
        "  # Solve\n",
        "\n",
        "  # Compute error\n",
        "\n",
        "  # Update\n",
        "\n"
      ],
      "metadata": {
        "id": "34lm792MXmOu"
      },
      "execution_count": null,
      "outputs": []
    },
    {
      "cell_type": "markdown",
      "source": [
        "What if the exact solution is not known? Then we can still estiate the EOC but three experiments. Indeed, letting $h_2=\\theta h_1$, we have\n",
        "\n",
        "$|| U_{h_2}-U_{h_1} ||_\\infty\\le || U-U_{h_1} ||_\\infty + || U-U_{h_2} ||_\\infty\\approx C h_1^k+C h_2^k \\approx C (1+\\theta^k) h_1^k$\n",
        "\n",
        "Now, given also $h_3 = \\theta h_2$, we have similarly\n",
        "\n",
        "$|| U_{h_3}-U_{h_2} ||_\\infty \\approx C (1+\\theta^k) h_2^k=C (1+\\theta^k)\\theta^k h_1^k$\n",
        "\n",
        "hence,\n",
        "\n",
        "$\\frac{|| U_{h_2}-U_{h_1} ||_\\infty}{|| U_{h_3}-U_{h_2} ||_\\infty}\\approx \\frac{C (1+\\theta^k) h_1^k}{C (1+\\theta^k)\\theta^k h_1^k}=\\theta^{-k}$\n",
        "\n",
        "from which $k$ can be estimated as before by passing to the logs.\n",
        "\n",
        "NOTE! The discrete solutions are defined at different sets of points so the above comparison is to be intended on the set of common points!"
      ],
      "metadata": {
        "id": "1qj6q7X1Xmwm"
      }
    },
    {
      "cell_type": "markdown",
      "source": [
        "**Exercise 1:** try this out for the problem with\n",
        "\n",
        "$\\alpha(x)=1+\\sin(x),\\,  \\beta(x)=1,\\, \\gamma(x)=x, \\, f=1$.\n",
        "\n",
        "Check that you still get the expected rate of convergence."
      ],
      "metadata": {
        "id": "N3UJHKF0XsQh"
      }
    },
    {
      "cell_type": "markdown",
      "source": [
        "**Exersie 2.** Modify the FD1D routine to solve problems with nonhomogeneous boundary conditions."
      ],
      "metadata": {
        "id": "t2KVyLFnsOZd"
      }
    },
    {
      "cell_type": "markdown",
      "source": [
        "**Exersie 3.** Consider now the problem defined by:\n",
        "\n",
        "$a=0$, $b=1$, $u(0)=1$, $u(1)=0$ $f=0$ and\n",
        "\n",
        "$\\alpha=\\beta=\\gamma=1$.\n",
        "\n",
        "Solve this problem using a grid made of $N=10$ intervals and plot the solution.\n",
        "\n",
        "Next, try with $\\alpha=0.01$, $\\beta=1$, $\\gamma=0$. What happens? Can you explain? Experiment by taking finer grids."
      ],
      "metadata": {
        "id": "xAo1OdaSr72T"
      }
    }
  ]
}