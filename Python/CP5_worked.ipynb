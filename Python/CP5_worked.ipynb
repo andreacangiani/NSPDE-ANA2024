{
  "nbformat": 4,
  "nbformat_minor": 0,
  "metadata": {
    "colab": {
      "name": "C4.ipynb",
      "provenance": [],
      "authorship_tag": "ABX9TyNNMWhDGu2g9SbVw04R5S/B",
      "include_colab_link": true
    },
    "kernelspec": {
      "name": "python3",
      "display_name": "Python 3"
    },
    "language_info": {
      "name": "python"
    }
  },
  "cells": [
    {
      "cell_type": "markdown",
      "metadata": {
        "id": "view-in-github",
        "colab_type": "text"
      },
      "source": [
        "<a href=\"https://colab.research.google.com/github/andreacangiani/NSPDE-ANA2024/blob/main/Python/CP5_worked.ipynb\" target=\"_parent\"><img src=\"https://colab.research.google.com/assets/colab-badge.svg\" alt=\"Open In Colab\"/></a>"
      ]
    },
    {
      "cell_type": "markdown",
      "source": [
        "# Finite Element Method in 1D"
      ],
      "metadata": {
        "id": "zB4VXUN-IBC6"
      }
    },
    {
      "cell_type": "markdown",
      "source": [
        "1. Linear ($k=1$) Finite Element Method solver for the 1D Poisson problem:\n",
        "\n",
        "$-u''=f \\quad \\in \\Omega=(a,b)^2$\n",
        "\n",
        "$u(a)=0=u(b)$"
      ],
      "metadata": {
        "id": "yuQpsduuIGBS"
      }
    },
    {
      "cell_type": "markdown",
      "source": [
        "Import usual modules"
      ],
      "metadata": {
        "id": "3uZh9S5ZIYZi"
      }
    },
    {
      "cell_type": "code",
      "execution_count": 1,
      "metadata": {
        "id": "7ECrogObH7yZ"
      },
      "outputs": [],
      "source": [
        "import numpy as np\n",
        "import matplotlib.pyplot as plt\n",
        "import scipy.sparse as sp\n",
        "from scipy.sparse.linalg import spsolve\n",
        "from scipy.sparse.linalg import eigsh"
      ]
    },
    {
      "cell_type": "markdown",
      "source": [
        "FEM system assembly with trapezoidal rule for rhs"
      ],
      "metadata": {
        "id": "ZA-GnWjJIj2F"
      }
    },
    {
      "cell_type": "code",
      "source": [
        "def FEM1_1D_TRAP(omega,N,rhs):\n",
        "  # 1D FEM with k=1 system matrix and rhs for\n",
        "  # diffusion problem with homogeneous Dirichlet bc\n",
        "  # trapezoidal rule uniform grid\n",
        "\n",
        "  # grid is defined here as uniform\n",
        "  h = (omega[1]-omega[0]) / N\n",
        "  x = np.linspace(omega[0],omega[1],N+1)\n",
        "\n",
        "  # initialise system\n",
        "  A = sp.lil_matrix((N+1,N+1))\n",
        "  F = np.zeros(N+1)\n",
        "\n",
        "  # Assembly loop\n",
        "  for i in range(N):\n",
        "    # local contributions\n",
        "    A_ele = np.matrix([[1/h, -1/h],[-1/h, 1/h]])\n",
        "    F_ele = 0.5 * h * rhs(x[i:i+2])\n",
        "    # Assembly local-to-global\n",
        "    A[i:i+2,i:i+2] += A_ele\n",
        "    F[i:i+2] += F_ele\n",
        "\n",
        "  # Apply boundary conditions\n",
        "  A[0,0] = 1/h; A[0,1] = 0; F[0] = 0\n",
        "  A[N,N] = 1/h; A[N,N-1] = 0; F[N] = 0\n",
        "\n",
        "  # return system matrix and rhs vector\n",
        "  return A, F"
      ],
      "metadata": {
        "id": "WpXoSBYkIpZv"
      },
      "execution_count": 4,
      "outputs": []
    },
    {
      "cell_type": "markdown",
      "source": [
        "Define FEM problem and solve"
      ],
      "metadata": {
        "id": "Lk6jlfygJX9c"
      }
    },
    {
      "cell_type": "code",
      "source": [
        "# problem's data\n",
        "omega = [0,np.pi]\n",
        "rhs = lambda x: np.sin(x)\n",
        "exact = lambda x: np.sin(x)\n",
        "\n",
        "# number of subdivisions\n",
        "N=100;\n",
        "\n",
        "# call function computing FEM system\n",
        "A, F = FEM1_1D_TRAP(omega,N,rhs)\n",
        "\n",
        "# solve\n",
        "A = A.tocsr()\n",
        "Uh = sp.linalg.spsolve(A,F)\n",
        "\n",
        "# Evaluate exact solution at grid nodes\n",
        "x = np.linspace(omega[0],omega[1],N+1)\n",
        "U = exact(x)\n",
        "\n",
        "# Plot solutions\n",
        "plt.plot(Uh)\n",
        "plt.plot(U)\n",
        "\n",
        "# compute discrete max norm error\n",
        "print(max(abs(U-Uh)))"
      ],
      "metadata": {
        "id": "Haoo0fWRJbLa",
        "outputId": "c4080010-d1e9-4147-c9a4-508658b64d77",
        "colab": {
          "base_uri": "https://localhost:8080/",
          "height": 447
        }
      },
      "execution_count": 5,
      "outputs": [
        {
          "output_type": "stream",
          "name": "stdout",
          "text": [
            "8.225076221068939e-05\n"
          ]
        },
        {
          "output_type": "display_data",
          "data": {
            "text/plain": [
              "<Figure size 640x480 with 1 Axes>"
            ],
            "image/png": "[encoded data removed]"
          },
          "metadata": {}
        }
      ]
    },
    {
      "cell_type": "markdown",
      "source": [
        "2. Repeat exercise but for the non-homogeneous Dirichlet conditions, so:\n",
        "\n",
        "$-u''=f \\quad \\in \\Omega=(a,b)^2$\n",
        "\n",
        "$u(a)=g(a)$ and $u(b)=g(b)$\n",
        "\n",
        "for $g$ a given function.\n",
        "\n",
        "Also:\n",
        "- allow for nonuniform grid\n",
        "- use reference element to assemble\n",
        "- to compute the rhs, use arbitrary order Gauss integration"
      ],
      "metadata": {
        "id": "H4eLL1bxKjxA"
      }
    },
    {
      "cell_type": "code",
      "source": [
        "# Gauss quadrature formula on [0,1]\n",
        "def quadrature(n_quadrature_points):\n",
        "\n",
        "  # exploit numpy Gauss quadrature. This is defined in [-1,1]\n",
        "  q, w = np.polynomial.legendre.leggauss(n_quadrature_points)\n",
        "\n",
        "  return (q+1)/2, w/2"
      ],
      "metadata": {
        "id": "K76sA6orKq44"
      },
      "execution_count": null,
      "outputs": []
    },
    {
      "cell_type": "markdown",
      "source": [
        "Function defining the mesh"
      ],
      "metadata": {
        "id": "dXYP11H2WI73"
      }
    },
    {
      "cell_type": "code",
      "source": [
        "def mesh(omega,N):\n",
        "  return np.linspace(omega[0],omega[1],N+1)"
      ],
      "metadata": {
        "id": "Lwu1e4TsVyjA"
      },
      "execution_count": null,
      "outputs": []
    },
    {
      "cell_type": "markdown",
      "source": [
        "Define reference element transformation of coordinates"
      ],
      "metadata": {
        "id": "5ggpOGCCKx0e"
      }
    },
    {
      "cell_type": "code",
      "source": [
        "# Transformation of coordinates functions:\n",
        "# reference element -> current element\n",
        "# [0,1] -> [q[i], q[i+1]]\n",
        "\n",
        "def mapping(q, i):\n",
        "    # check index is within range\n",
        "    assert i < len(q)-1\n",
        "    assert i >= 0\n",
        "    return lambda x:\n",
        "\n",
        "\n",
        "def mapping_J(q,i):\n",
        "    assert i < len(q)-1\n",
        "    assert i >= 0\n",
        "    return\n",
        "\n",
        "\n",
        "# Linear lagrange basis on reference element\n",
        "def basis1(i):\n",
        "    assert i < 2\n",
        "    assert i >= 0\n",
        "    if i == 0:\n",
        "      phi = lambda x:\n",
        "    else:\n",
        "      phi = lambda x:\n",
        "    return phi\n",
        "\n",
        "\n",
        "# Linear lagrange basis derivatives on reference element\n",
        "def basis1_derivative(i):\n",
        "    assert i < 2\n",
        "    assert i >= 0\n",
        "    if i == 0:\n",
        "      dphi = lambda x:\n",
        "    else:\n",
        "      dphi = lambda x:\n",
        "    return dphi\n",
        "\n"
      ],
      "metadata": {
        "id": "EbTQ7oWvKw4O"
      },
      "execution_count": null,
      "outputs": []
    },
    {
      "cell_type": "markdown",
      "source": [
        "FEM system assembly with Gauss integration\n",
        "\n"
      ],
      "metadata": {
        "id": "HYYC2YknLOxP"
      }
    },
    {
      "cell_type": "code",
      "source": [
        "def FEM1_1D_GAUSS(omega,N,n_qpoints,rhs):\n",
        "  # 1D FEM with k=1 system matrix and rhs\n",
        "  # not accounting for boundary conditions\n",
        "\n",
        "  # grid\n",
        "\n",
        "  # quadrature formula on reference element\n",
        "\n",
        "  # Evaluation of the two local linear Lagrange basis\n",
        "\n",
        "  # initialise system\n",
        "\n",
        "  # Assembly loop\n",
        "\n",
        "  # return system matrix and rhs vector\n",
        "  return A, F"
      ],
      "metadata": {
        "id": "-wIMV3GKLKUa"
      },
      "execution_count": null,
      "outputs": []
    },
    {
      "cell_type": "markdown",
      "source": [
        "Function implementing the boundary (nonhomogeneous) Dirichlet conditions. (Similar to FD code, but boundary condition given by sunction $g$!)"
      ],
      "metadata": {
        "id": "3M2vdz58L3ws"
      }
    },
    {
      "cell_type": "code",
      "source": [
        "def apply_boundary_conditions(omega,N, A, F, g):\n"
      ],
      "metadata": {
        "id": "S4MWcm1wMIgr"
      },
      "execution_count": null,
      "outputs": []
    },
    {
      "cell_type": "markdown",
      "source": [
        "Define FEM problem and solve"
      ],
      "metadata": {
        "id": "DBzkZQxjMcQb"
      }
    },
    {
      "cell_type": "code",
      "source": [
        "# problem's data\n",
        "\n",
        "# number of subdivisions and quadrature points\n",
        "\n",
        "# assemble system\n",
        "\n",
        "# Apply boundary conditions\n",
        "\n",
        "# Change formato for faster solve and solve\n",
        "\n",
        "# Compute exact solution at nodes and evaluate nodal error\n"
      ],
      "metadata": {
        "id": "tL_U0nJhy8VN"
      },
      "execution_count": null,
      "outputs": []
    },
    {
      "cell_type": "markdown",
      "source": [
        "Next we run few experiment to confirm the theoretical convergence and growth of the condition number."
      ],
      "metadata": {
        "id": "BW3nCXlrEE18"
      }
    },
    {
      "cell_type": "code",
      "source": [
        "# problem's data\n",
        "\n",
        "# number of experiment\n",
        "no_experiments =\n",
        "# Initialise error vector\n",
        "\n",
        "# experiments loop\n",
        "for i in range(no_experiments):\n",
        "  # double number of partitions\n",
        "\n",
        "  # call function computing FEM system\n",
        "\n",
        "  # solve\n",
        "\n",
        "  # condition number of Stiffness matrix\n",
        "\n",
        "  # Evaluate exact solution at grid nodes\n",
        "\n",
        "  # Compute errors\n",
        "\n",
        "  # Plot error"
      ],
      "metadata": {
        "id": "OAlSKDRFMX_g"
      },
      "execution_count": null,
      "outputs": []
    },
    {
      "cell_type": "markdown",
      "source": [
        "**Exercise 1** Write a function computing $H^1$-norm error"
      ],
      "metadata": {
        "id": "ATHWTUKJSNP6"
      }
    },
    {
      "cell_type": "code",
      "source": [
        "def FEM1_H1(omega,N,n_qpoints,Uh,sol):\n",
        "  # H1 error\n",
        "\n",
        "  # grid\n",
        "\n",
        "  # quadrature formula on reference element\n",
        "\n",
        "  # Evaluation of linear Lagrange basis\n",
        "\n",
        "  # initialise value of norm of error\n",
        "\n",
        "  # Assembly error\n",
        "\n",
        "  # Return error\n"
      ],
      "metadata": {
        "id": "5ij1-L_NSZaV"
      },
      "execution_count": null,
      "outputs": []
    },
    {
      "cell_type": "markdown",
      "source": [
        "and test convergence this time for $\\| u - u_h \\|_{H^1(a,b)}$."
      ],
      "metadata": {
        "id": "PaRQ1GVPMhhh"
      }
    },
    {
      "cell_type": "code",
      "source": [],
      "metadata": {
        "id": "6T07MoP9Mq_O"
      },
      "execution_count": null,
      "outputs": []
    },
    {
      "cell_type": "markdown",
      "source": [
        "**Exercise 2**: Try same exercise, this time with nonuniform grid"
      ],
      "metadata": {
        "id": "wzuVFLYsXgec"
      }
    },
    {
      "cell_type": "markdown",
      "source": [
        "**Exercise 3**: Write code solving general reaction-advection-diffusion problems"
      ],
      "metadata": {
        "id": "Cxeu1oSRXpFr"
      }
    }
  ]
}