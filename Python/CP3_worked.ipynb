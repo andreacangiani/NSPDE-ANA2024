{
  "nbformat": 4,
  "nbformat_minor": 0,
  "metadata": {
    "colab": {
      "name": "C3.ipynb",
      "provenance": [],
      "authorship_tag": "ABX9TyMw8f8iO99eiIJHBrlenYKb",
      "include_colab_link": true
    },
    "kernelspec": {
      "name": "python3",
      "display_name": "Python 3"
    },
    "language_info": {
      "name": "python"
    }
  },
  "cells": [
    {
      "cell_type": "markdown",
      "metadata": {
        "id": "view-in-github",
        "colab_type": "text"
      },
      "source": [
        "<a href=\"https://colab.research.google.com/github/andreacangiani/NSPDE-ANA2024/blob/main/Python/CP3_worked.ipynb\" target=\"_parent\"><img src=\"https://colab.research.google.com/assets/colab-badge.svg\" alt=\"Open In Colab\"/></a>"
      ]
    },
    {
      "cell_type": "markdown",
      "source": [
        "# Finite Difference for 1D reaction-advection-diffusion problem"
      ],
      "metadata": {
        "id": "EYPTFFAQN3BY"
      }
    },
    {
      "cell_type": "markdown",
      "source": [
        "1. Finite Difference solver for the reaction-advection-diffusion problem with nonconstant coefficients:\n",
        "\n",
        "$-\\alpha(x) u''(x)+\\beta(x) u'(x)+\\gamma(x) u(x)=f(x) \\quad \\in (a,b)$\n",
        "\n",
        "$u(a)=0, \\quad u(b)=0$.\n",
        "\n",
        "Implement FD method including the boundary conditions in the system."
      ],
      "metadata": {
        "id": "VXF0WBPFNRtO"
      }
    },
    {
      "cell_type": "code",
      "execution_count": 1,
      "metadata": {
        "id": "cVTxIyM7NFyh"
      },
      "outputs": [],
      "source": [
        "import numpy as np\n",
        "import matplotlib.pyplot as plt\n",
        "import scipy.sparse as sp\n",
        "from scipy.sparse.linalg import spsolve"
      ]
    },
    {
      "cell_type": "markdown",
      "source": [
        "Function computing the 1D FD algebric system"
      ],
      "metadata": {
        "id": "SRJ5pqdRPUtH"
      }
    },
    {
      "cell_type": "code",
      "source": [
        "def FD1D(omega,N,alpha,beta,gamma,rhs):\n",
        "  # FD system matrix and rhs for\n",
        "  # diffusion-advection-reaction problem with coeffs\n",
        "  # alpha,beta,gamma,rhs\n",
        "  # homogeneous Dirichlet bc\n",
        "  # uniform grid in sparse CSR format\n",
        "\n",
        "  # grid\n",
        "  h = (omega[1]-omega[0])/N\n",
        "  x =np.linspace(omega[0],omega[1],N+1)\n",
        "\n",
        "  # compute coeffs and rhs values\n",
        "  diff = alpha(x)\n",
        "  conv = beta(x)\n",
        "  reac = gamma(x)\n",
        "  F = rhs(x)\n",
        "\n",
        "  # assemble system matrix\n",
        "  diff_term = [-diff[1:N+1], 2*diff, -diff[0:-1]]\n",
        "  conv_term = [-conv[1:N+1], conv[0:-1]]\n",
        "\n",
        "  A = (1./h**2) * sp.diags(diff_term,[-1,0,1],format=\"csr\")+(1./(2*h)) * sp.diags(conv_term,[-1,1],format=\"csr\") + sp.diags(reac,0,format=\"csr\")\n",
        "\n",
        "  # modify system to account for homogeneous Dirichlet boundary conditions\n",
        "  A[0,0] = 1; A[0,1] = 0; F[0] = 0\n",
        "  A[N,N] = 1; A[N,N-1] = 0; F[N] = 0\n",
        "\n",
        "  return A, F"
      ],
      "metadata": {
        "id": "Csg0gbiITqSg"
      },
      "execution_count": 2,
      "outputs": []
    },
    {
      "cell_type": "markdown",
      "source": [
        "Solve the boundary value problem with:\n",
        "\n",
        "$a=0,\\, b=Π$\n",
        "\n",
        "$\\alpha(x)=1+\\sin(x),\\,  \\beta(x)=1,\\, \\gamma(x)=x,\\, f(x)=1$"
      ],
      "metadata": {
        "id": "gRfVSvNTJg03"
      }
    },
    {
      "cell_type": "code",
      "source": [
        "# Problem domain\n",
        "omega =[0, np.pi]\n",
        "\n",
        "# Problem data\n",
        "alpha = lambda x : 1 + np.sin(x)\n",
        "beta = lambda x : np.ones(len(x))\n",
        "gamma = lambda x : x\n",
        "rhs = lambda x : np.ones(len(x))\n",
        "\n",
        "# Grid parameters\n",
        "N=50\n",
        "x =np.linspace(omega[0],omega[1],N+1)\n",
        "\n",
        "# Assemble FD system\n",
        "A, F = FD1D(omega,N,alpha,beta,gamma,rhs)\n",
        "\n",
        "# solve\n",
        "uh=sp.linalg.spsolve(A,F)\n",
        "\n",
        "# plot solution\n",
        "plt.plot(x,uh)\n"
      ],
      "metadata": {
        "id": "ZOZf2ZiTJjO5"
      },
      "execution_count": null,
      "outputs": []
    },
    {
      "cell_type": "markdown",
      "source": [
        "Compute experimental order of convergence (EOC) using knowledge that\n",
        "\n",
        "$|| U-U_h ||_\\infty \\approx C h^k$\n",
        "\n",
        "with $C$ independent of $h$. Hence,\n",
        "\n",
        "$\\frac{|| U-U_{h_1} ||_\\infty}{|| U-U_{h_2} ||_\\infty}\\approx\\large(\\frac{h_1}{h_2}\\large)^k$,\n",
        "\n",
        "and then,\n",
        "\n",
        "$k\\approx\\frac{\\log || U-U_{h_1} ||_\\infty-\\log|| U-U_{h_2} ||_\\infty}{\\log h_1 - \\log h_2}$.\n",
        "\n",
        "Notice that to estimate the EOC you need to run at least two experiments, for instance with $h_1=h$, $h_2=h/2$."
      ],
      "metadata": {
        "id": "ohPbdO6sTsaw"
      }
    },
    {
      "cell_type": "markdown",
      "source": [
        "For simplicity, let's take\n",
        "\n",
        "$\\alpha(x)=1,\\,  \\beta(x)=0,\\, \\gamma(x)=0$\n",
        "\n",
        "and\n",
        "\n",
        "$u=\\sin(x)$ so that $f=\\sin(x)$\n"
      ],
      "metadata": {
        "id": "Cc7f28z4qrVf"
      }
    },
    {
      "cell_type": "code",
      "source": [
        "# Problem domain\n",
        "omega =[0, np.pi]\n",
        "\n",
        "# Problem data\n",
        "alpha = lambda x : np.ones(len(x))\n",
        "beta = lambda x : 0. * np.ones(len(x))\n",
        "gamma = lambda x : 0. * np.ones(len(x))\n",
        "rhs = lambda x : np.sin(x)\n",
        "u = lambda x : np.sin(x)\n",
        "\n",
        "# Number of experiments\n",
        "no_exp = 20\n",
        "\n",
        "# initialise with first experiment\n",
        "# Grid parameters\n",
        "N=5\n",
        "x =np.linspace(omega[0],omega[1],N+1)\n",
        "\n",
        "# Assemble FD system\n",
        "A, F = FD1D(omega,N,alpha,beta,gamma,rhs)\n",
        "\n",
        "# solve\n",
        "uh=sp.linalg.spsolve(A,F)\n",
        "\n",
        "# compute error\n",
        "err1 = max(abs(u(x)-uh))\n",
        "h1 = (omega[1]-omega[0])/N\n",
        "\n",
        "\n",
        "# loop over remaining experiments\n",
        "for i in range(no_exp-1):\n",
        "  # fix the mesh\n",
        "  N = 2 * N\n",
        "  x =np.linspace(omega[0],omega[1],N+1)\n",
        "\n",
        "  # evaluate system for given N\n",
        "  A, F = FD1D(omega,N,alpha,beta,gamma,rhs)\n",
        "  # Solve\n",
        "  uh=sp.linalg.spsolve(A,F)\n",
        "  # Compute error\n",
        "  err2 = max(abs(u(x)-uh))\n",
        "  h2 = (omega[1]-omega[0])/N\n",
        "\n",
        "  print(err2)\n",
        "  #print((np.log(err1)-np.log(err2))/(np.log(h1)-np.log(h2)))\n",
        "\n",
        "  # Update\n",
        "  err1=err2\n",
        "  h1=h2\n",
        "\n"
      ],
      "metadata": {
        "id": "34lm792MXmOu"
      },
      "execution_count": null,
      "outputs": []
    },
    {
      "cell_type": "markdown",
      "source": [
        "What if the exact solution is not known? Then we can still estiate the EOC but three experiments. Indeed, letting $h_2=\\theta h_1$, we have\n",
        "\n",
        "$|| U_{h_2}-U_{h_1} ||_\\infty\\le || U-U_{h_1} ||_\\infty + || U-U_{h_2} ||_\\infty\\approx C h_1^k+C h_2^k \\approx C (1+\\theta^k) h_1^k$\n",
        "\n",
        "Now, given also $h_3 = \\theta h_2$, we have similarly\n",
        "\n",
        "$|| U_{h_3}-U_{h_2} ||_\\infty \\approx C (1+\\theta^k) h_2^k=C (1+\\theta^k)\\theta^k h_1^k$\n",
        "\n",
        "hence,\n",
        "\n",
        "$\\frac{|| U_{h_2}-U_{h_1} ||_\\infty}{|| U_{h_3}-U_{h_2} ||_\\infty}\\approx \\frac{C (1+\\theta^k) h_1^k}{C (1+\\theta^k)\\theta^k h_1^k}=\\theta^{-k}$\n",
        "\n",
        "from which $k$ can be estimated as before by passing to the logs.\n",
        "\n",
        "NOTE! The discrete solutions are defined at different sets of points so the above comparison is to be intended on the set of common points!"
      ],
      "metadata": {
        "id": "1qj6q7X1Xmwm"
      }
    },
    {
      "cell_type": "markdown",
      "source": [
        "**Exercise 1:** try this out for the problem with\n",
        "\n",
        "$\\alpha(x)=1+\\sin(x),\\,  \\beta(x)=1,\\, \\gamma(x)=x, \\, f=1$.\n",
        "\n",
        "Check that you still get the expected rate of convergence."
      ],
      "metadata": {
        "id": "N3UJHKF0XsQh"
      }
    },
    {
      "cell_type": "markdown",
      "source": [
        "**Exersie 2.** Modify the FD1D routine to solve problems with nonhomogeneous boundary conditions."
      ],
      "metadata": {
        "id": "t2KVyLFnsOZd"
      }
    },
    {
      "cell_type": "markdown",
      "source": [
        "**Exersie 3.** Consider now the problem defined by:\n",
        "\n",
        "$a=0$, $b=1$, $u(0)=1$, $u(1)=0$ $f=0$ and\n",
        "\n",
        "$\\alpha=\\beta=\\gamma=1$.\n",
        "\n",
        "Solve this problem using a grid made of $N=10$ intervals and plot the solution.\n",
        "\n",
        "Next, try with $\\alpha=0.01$, $\\beta=1$, $\\gamma=0$. What happens? Can you explain? Experiment by taking finer grids."
      ],
      "metadata": {
        "id": "xAo1OdaSr72T"
      }
    }
  ]
}