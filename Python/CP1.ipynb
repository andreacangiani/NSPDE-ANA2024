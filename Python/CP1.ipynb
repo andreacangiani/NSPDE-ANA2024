{
  "nbformat": 4,
  "nbformat_minor": 0,
  "metadata": {
    "colab": {
      "provenance": [],
      "include_colab_link": true
    },
    "kernelspec": {
      "name": "python3",
      "display_name": "Python 3"
    },
    "language_info": {
      "name": "python"
    }
  },
  "cells": [
    {
      "cell_type": "markdown",
      "metadata": {
        "id": "view-in-github",
        "colab_type": "text"
      },
      "source": [
        "<a href=\"https://colab.research.google.com/github/andreacangiani/NSPDE-ANA2024/blob/main/Python/CP1.ipynb\" target=\"_parent\"><img src=\"https://colab.research.google.com/assets/colab-badge.svg\" alt=\"Open In Colab\"/></a>"
      ]
    },
    {
      "cell_type": "markdown",
      "source": [
        "# Introduction"
      ],
      "metadata": {
        "id": "mBbJ3xoVKHvB"
      }
    },
    {
      "cell_type": "markdown",
      "source": [
        "I will assume the knowledge acquired from the 1st semester course by Rozza and Heltai.\n",
        "\n",
        "Good free book on Scientific Computing with Python:\n",
        "\n",
        "https://link.springer.com/book/10.1007/978-3-030-50356-7\n",
        "\n"
      ],
      "metadata": {
        "id": "akBplfCp9x2y"
      }
    },
    {
      "cell_type": "markdown",
      "source": [
        "# Python for Scientific Computing: quick recap"
      ],
      "metadata": {
        "id": "BayxWMT7KA9R"
      }
    },
    {
      "cell_type": "markdown",
      "source": [
        "**Why Python?**\n",
        "\n",
        "    Python is a modern, general-purpose, object-oriented, high-level programming language with huge community of users\n",
        "\n",
        "* No license costs. Immediately available (no installation required) from cloud computing platforms, eg. Google [Colab](https://colab.research.google.com)\n",
        "  * You'll need a Google account to access Google colab\n",
        "\n",
        "* Extensive ecosystem of scientific libraries (modules):\n",
        "  * [numpy](https://www.numpy.org) - Numerical Python\n",
        "  * [scipy](https://www.scipy.org) -  Scientific Python\n",
        "  * [matplotlib](https://www.matplotlib.org) - graphics library\n",
        "  * [petsc4py](https://gitlab.com/petsc/petsc) & [slepc4py](https://gitlab.com/slepc/slepc) - vast range of sequential or parallel linear or nonlinear solvers, time stepping, optimization, and eigensolvers\n",
        "  * [FEniCS](https://www.fenicsproject.org/) & [Firedrake](https://www.firedrakeproject.org) - finite element method (FEM) platforms."
      ],
      "metadata": {
        "id": "CCo_kCv8KPVo"
      }
    },
    {
      "cell_type": "markdown",
      "source": [
        "You can get this colab notebook by typing the line:\n",
        "\n",
        "**!git clone https://github.com/andreacangiani/NSPDE-ANA2023.git**"
      ],
      "metadata": {
        "id": "k6JAL9FReFtM"
      }
    },
    {
      "cell_type": "markdown",
      "source": [
        "**Modules**"
      ],
      "metadata": {
        "id": "y_jfqlpVKV6F"
      }
    },
    {
      "cell_type": "code",
      "source": [
        "import math\n",
        "\n"
      ],
      "metadata": {
        "id": "u4mqQfc1KUkG"
      },
      "execution_count": 1,
      "outputs": []
    },
    {
      "cell_type": "markdown",
      "source": [
        "Import just what you need..."
      ],
      "metadata": {
        "id": "opjg3ti-C5_j"
      }
    },
    {
      "cell_type": "code",
      "source": [
        "from math import sin, pi\n",
        "\n"
      ],
      "metadata": {
        "id": "zpxfr_JgJ4iE"
      },
      "execution_count": 2,
      "outputs": []
    },
    {
      "cell_type": "markdown",
      "source": [
        "**Variables**\n",
        "Convention: variable names start with a lower-case letter (Class names start with a capital letter)."
      ],
      "metadata": {
        "id": "4lHhLaXVj-Fa"
      }
    },
    {
      "cell_type": "code",
      "source": [],
      "metadata": {
        "id": "Kjwc-K7akIkn"
      },
      "execution_count": null,
      "outputs": []
    },
    {
      "cell_type": "markdown",
      "source": [
        "**Operators**\n",
        "\n",
        "* Arithmetic operators:\n",
        "    `+`, `-`, `*`, `/`, `//` (integer division), `**` power\n",
        "\n",
        "* Boolean operators:\n",
        "    `and`, `not`, `or`\n",
        "\n",
        "* Comparison operators:\n",
        "    `>`, `<`, `>=` (greater or equal), `<=` (less or equal), `==` equal, `!=` not equal."
      ],
      "metadata": {
        "id": "T9r-DvZ0k9v6"
      }
    },
    {
      "cell_type": "code",
      "source": [
        "print(2**3)"
      ],
      "metadata": {
        "id": "jzUk7ffzlup2"
      },
      "execution_count": null,
      "outputs": []
    },
    {
      "cell_type": "code",
      "source": [
        "my_bool = True and False\n",
        "\n",
        "my_string = \"Can something be true and false at the same time???  \"\n",
        "\n",
        "print(my_string, my_bool)"
      ],
      "metadata": {
        "id": "7bEDZla2ljTV"
      },
      "execution_count": null,
      "outputs": []
    },
    {
      "cell_type": "code",
      "source": [
        "3 >= 2"
      ],
      "metadata": {
        "id": "NQN5JGSsl7Go"
      },
      "execution_count": null,
      "outputs": []
    },
    {
      "cell_type": "code",
      "source": [
        "statement1 = (3 <= 2)\n",
        "statement2 = (0 == 1)\n",
        "\n",
        "# Note! Indentation based!\n",
        "if statement1:\n",
        "    print(\"statement1 is True\")\n",
        "elif statement2:\n",
        "    print(\"statement2 is True\")\n",
        "else:\n",
        "    print(\"statement1 and statement2 are both False\")"
      ],
      "metadata": {
        "id": "tFkg4BRvn39e"
      },
      "execution_count": null,
      "outputs": []
    },
    {
      "cell_type": "markdown",
      "source": [
        "**Lists**"
      ],
      "metadata": {
        "id": "rx44oesGnETN"
      }
    },
    {
      "cell_type": "code",
      "source": [
        "my_list = [1, 2, 3, 4, 5, \"a\"]\n",
        "\n"
      ],
      "metadata": {
        "id": "OlgqomiqnY_V"
      },
      "execution_count": null,
      "outputs": []
    },
    {
      "cell_type": "code",
      "source": [
        "my_nested_list = [[1, 2], [3, 4, 5]]\n",
        "\n"
      ],
      "metadata": {
        "id": "CT5UursenDjg"
      },
      "execution_count": null,
      "outputs": []
    },
    {
      "cell_type": "markdown",
      "source": [
        "Turning lists into NumPy arrays"
      ],
      "metadata": {
        "id": "rINUzQH5a-Py"
      }
    },
    {
      "cell_type": "code",
      "source": [
        "import numpy as np # module for arrays\n"
      ],
      "metadata": {
        "id": "eoQEoZzNbEod"
      },
      "execution_count": null,
      "outputs": []
    },
    {
      "cell_type": "markdown",
      "source": [
        "**\"for\" and and \"while\" loops**"
      ],
      "metadata": {
        "id": "5ztAn85ipDTZ"
      }
    },
    {
      "cell_type": "code",
      "source": [],
      "metadata": {
        "id": "89w0KYuepKzb"
      },
      "execution_count": null,
      "outputs": []
    },
    {
      "cell_type": "code",
      "source": [],
      "metadata": {
        "id": "R2q82MFAproh"
      },
      "execution_count": null,
      "outputs": []
    },
    {
      "cell_type": "code",
      "source": [
        "i = 0\n",
        "while i < 3:\n",
        "    print(i)\n",
        "    i += 1\n",
        "\n",
        "print(\"is identical to\")\n",
        "\n",
        "v = [0, 1, 2, 3]\n",
        "i = 0\n",
        "while i<len(v)-1:\n",
        "  print(v[i])\n",
        "  i = i + 1"
      ],
      "metadata": {
        "id": "xWcashocqAoi"
      },
      "execution_count": null,
      "outputs": []
    },
    {
      "cell_type": "markdown",
      "source": [
        "**Functions**"
      ],
      "metadata": {
        "id": "-PneRHVGswD3"
      }
    },
    {
      "cell_type": "code",
      "source": [
        "def mult(f1,f2):\n",
        "  # returns product of arguments\n",
        "  return f1*f2\n",
        "\n",
        "print(mult(2,3))"
      ],
      "metadata": {
        "id": "h8gDzlAXsyP5"
      },
      "execution_count": null,
      "outputs": []
    },
    {
      "cell_type": "code",
      "source": [],
      "metadata": {
        "id": "iONh5nizuwgF"
      },
      "execution_count": null,
      "outputs": []
    },
    {
      "cell_type": "code",
      "source": [
        "def powers (x,p=2):\n",
        "  # returns given power\n",
        "  # default is p=2\n",
        "  return x**p\n",
        "\n",
        "print(powers(2))\n",
        "print(powers(2,3))"
      ],
      "metadata": {
        "id": "QFQb3CnyvOnR"
      },
      "execution_count": null,
      "outputs": []
    },
    {
      "cell_type": "markdown",
      "source": [
        "Function implementing:\n",
        "$$\n",
        "f(x)=\n",
        "\\left\\{\n",
        "\\begin{array}{l}\n",
        "0,\\quad x<0\\\\\n",
        "x,\\quad 0\\le x<1\\\\\n",
        "2-x,\\quad 1\\le x<2\\\\\n",
        "0,\\quad x\\ge 2\n",
        "\\end{array}\n",
        "\\right.\n",
        "$$"
      ],
      "metadata": {
        "id": "0aDBprm1W-_n"
      }
    },
    {
      "cell_type": "code",
      "source": [
        "def f(x):\n",
        "  if x < 0:\n",
        "    return 0\n",
        "  elif 0 <= x < 1:\n",
        "    return x\n",
        "  elif 1 <= x < 2:\n",
        "    return 2 - x\n",
        "  elif x >= 2:\n",
        "    return 0"
      ],
      "metadata": {
        "id": "u9VtP4fcW0IO"
      },
      "execution_count": null,
      "outputs": []
    },
    {
      "cell_type": "code",
      "source": [
        "f(3)"
      ],
      "metadata": {
        "id": "c6aFpMpEXgwV"
      },
      "execution_count": null,
      "outputs": []
    },
    {
      "cell_type": "markdown",
      "source": [
        "Lambda functions are one-line functions:"
      ],
      "metadata": {
        "id": "XA6nbJRZYOLY"
      }
    },
    {
      "cell_type": "code",
      "source": [],
      "metadata": {
        "id": "q4GnRg2oYRor"
      },
      "execution_count": null,
      "outputs": []
    },
    {
      "cell_type": "markdown",
      "source": [
        "# Divided Difference formulas"
      ],
      "metadata": {
        "id": "FB4a1DObQMbu"
      }
    },
    {
      "cell_type": "markdown",
      "source": [
        "Implement basic divided difference formulas:\n",
        "\n",
        "$\\delta_{h,+} f (x)= \\frac{f(x+h)-f(x)}{h}  \\quad$    (FD)\n",
        "\n",
        "$\\delta_{h,-} f (x)= \\frac{f(x)-f(x-h)}{h}  \\quad$    (BD)\n",
        "\n",
        "$\\delta_{h} f (x)= \\frac{f(x+h/2)-f(x-h/2)}{h}  \\quad$    (CD)"
      ],
      "metadata": {
        "id": "bIJ5aiUXQUCw"
      }
    },
    {
      "cell_type": "code",
      "source": [
        "import matplotlib\n",
        "#pylap inline\n",
        "import sympy as sym"
      ],
      "metadata": {
        "id": "Zg8AZ_0fQYfj"
      },
      "execution_count": null,
      "outputs": []
    },
    {
      "cell_type": "code",
      "source": [],
      "metadata": {
        "id": "iapXY_9NTPuV"
      },
      "execution_count": null,
      "outputs": []
    },
    {
      "cell_type": "code",
      "source": [],
      "metadata": {
        "id": "C101-BUHTkS5"
      },
      "execution_count": null,
      "outputs": []
    },
    {
      "cell_type": "code",
      "source": [],
      "metadata": {
        "id": "CpVKf6jwUPYF"
      },
      "execution_count": null,
      "outputs": []
    },
    {
      "cell_type": "markdown",
      "source": [
        "Check rate of convergence"
      ],
      "metadata": {
        "id": "pha5coziRgwq"
      }
    },
    {
      "cell_type": "code",
      "source": [],
      "metadata": {
        "id": "9xlANFxQRh4i"
      },
      "execution_count": null,
      "outputs": []
    },
    {
      "cell_type": "code",
      "source": [],
      "metadata": {
        "id": "hjbQKQb3Rif4"
      },
      "execution_count": null,
      "outputs": []
    },
    {
      "cell_type": "markdown",
      "source": [
        "Let us now fix a grid and compute the FD in matrix form"
      ],
      "metadata": {
        "id": "nHTvDZoVU8Fm"
      }
    },
    {
      "cell_type": "code",
      "source": [],
      "metadata": {
        "id": "nNphS0QbU6Pg"
      },
      "execution_count": null,
      "outputs": []
    },
    {
      "cell_type": "code",
      "source": [],
      "metadata": {
        "id": "CqxUkXikVmMv"
      },
      "execution_count": null,
      "outputs": []
    },
    {
      "cell_type": "code",
      "source": [],
      "metadata": {
        "id": "OCgBlhH2W19J"
      },
      "execution_count": null,
      "outputs": []
    },
    {
      "cell_type": "code",
      "source": [],
      "metadata": {
        "id": "zAdWMCDFXgGx"
      },
      "execution_count": null,
      "outputs": []
    },
    {
      "cell_type": "code",
      "source": [],
      "metadata": {
        "id": "ZbccY6SCYA7Y"
      },
      "execution_count": null,
      "outputs": []
    },
    {
      "cell_type": "markdown",
      "source": [
        "Let's check convergence!"
      ],
      "metadata": {
        "id": "0_6uGXlKYWut"
      }
    },
    {
      "cell_type": "code",
      "source": [
        "t = sym.var('t')\n",
        "my_f = sym.sin(t)\n",
        "fsym = sym.lambdify(t, my_f)\n",
        "fsym_x = sym.lambdify(t, my_f.diff(t,1))\n",
        "\n",
        "no_expe = 8\n",
        "error = np.zeros(no_expe)\n",
        "NN = np.zeros(no_expe)\n",
        "\n",
        "for i in range(no_expe):\n",
        "  N = 2**(i+1)\n",
        "  NN[i] = N\n",
        "\n",
        "\n"
      ],
      "metadata": {
        "id": "nntsQJ1iYWYk"
      },
      "execution_count": null,
      "outputs": []
    },
    {
      "cell_type": "markdown",
      "source": [
        "Print error"
      ],
      "metadata": {
        "id": "D-1XrpvSDcbM"
      }
    },
    {
      "cell_type": "code",
      "source": [
        "print(error)"
      ],
      "metadata": {
        "id": "XC5lNADiaqfj"
      },
      "execution_count": null,
      "outputs": []
    },
    {
      "cell_type": "code",
      "source": [
        "import matplotlib\n",
        "\n",
        "matplotlib.pyplot.loglog(NN,error)\n",
        "\n",
        "matplotlib.pyplot.loglog(NN,NN**(-1))"
      ],
      "metadata": {
        "id": "3B-ADTlbax1O"
      },
      "execution_count": null,
      "outputs": []
    },
    {
      "cell_type": "markdown",
      "source": [
        "**Exercise 1** Implement the BD and CD formulas in matrix form as done for the FD forumla. Display in the same plot the error obtained with all three formulas to verify the theoretical order of convergence."
      ],
      "metadata": {
        "id": "JDLHaPvl9-0k"
      }
    },
    {
      "cell_type": "markdown",
      "source": [
        "**Exercise 2** Look up in Chapter 3 of the typed lecture notes NSPDE.pdf the one-sided second order formulas for the approximation of first derivatives. Implement these formulas. Compare these formulas with the CD formula by plotting errors as before in a single loglog plot. Comment your results."
      ],
      "metadata": {
        "id": "vAuJ4Foz_m2D"
      }
    },
    {
      "cell_type": "markdown",
      "source": [
        "**Exercise 3** Repeat Exercise 2 this time considering the centred and one sided formulas for the approximation of the second derivative also found in the lecture notes."
      ],
      "metadata": {
        "id": "6jeKUl-b_oTw"
      }
    }
  ]
}