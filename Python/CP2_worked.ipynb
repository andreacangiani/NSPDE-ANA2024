{
  "nbformat": 4,
  "nbformat_minor": 0,
  "metadata": {
    "colab": {
      "provenance": [],
      "authorship_tag": "ABX9TyP4yROpg1nvyEC64hPcBhe9",
      "include_colab_link": true
    },
    "kernelspec": {
      "name": "python3",
      "display_name": "Python 3"
    },
    "language_info": {
      "name": "python"
    }
  },
  "cells": [
    {
      "cell_type": "markdown",
      "metadata": {
        "id": "view-in-github",
        "colab_type": "text"
      },
      "source": [
        "<a href=\"https://colab.research.google.com/github/andreacangiani/NSPDE-ANA2024/blob/main/Python/CP2_worked.ipynb\" target=\"_parent\"><img src=\"https://colab.research.google.com/assets/colab-badge.svg\" alt=\"Open In Colab\"/></a>"
      ]
    },
    {
      "cell_type": "markdown",
      "source": [
        "# Divided differences using sparse matrix"
      ],
      "metadata": {
        "id": "WLd_JqUTLlx7"
      }
    },
    {
      "cell_type": "markdown",
      "source": [
        "Import the usual modules"
      ],
      "metadata": {
        "id": "lAvcakieLgH4"
      }
    },
    {
      "cell_type": "code",
      "execution_count": 1,
      "metadata": {
        "id": "UhR8FV_9KpLl"
      },
      "outputs": [],
      "source": [
        "import numpy as np\n",
        "import matplotlib.pyplot as plt\n",
        "import sympy as sym"
      ]
    },
    {
      "cell_type": "markdown",
      "source": [
        "New module: sparse algebra"
      ],
      "metadata": {
        "id": "TEsSBeGDMz-9"
      }
    },
    {
      "cell_type": "code",
      "source": [
        "import scipy.sparse as sp"
      ],
      "metadata": {
        "id": "knW_Lj85M3g2"
      },
      "execution_count": 2,
      "outputs": []
    },
    {
      "cell_type": "markdown",
      "source": [
        "Function implementing the forward difference in sparse format"
      ],
      "metadata": {
        "id": "AOx_KN1HLSBn"
      }
    },
    {
      "cell_type": "code",
      "source": [
        "def forw_diff(N):\n",
        "  # Compute FD matrix in spare fom using Compressed Sparse Row (CSR) format\n",
        "  data=[-np.ones(N+1), np.ones(N)]\n",
        "  return sp.diags(data,[0,1], format=\"csr\")\n"
      ],
      "metadata": {
        "id": "bPMMOZh0LRd5"
      },
      "execution_count": 16,
      "outputs": []
    },
    {
      "cell_type": "code",
      "source": [
        "help(sp.diags)"
      ],
      "metadata": {
        "id": "b3Ap_STysVTz"
      },
      "execution_count": null,
      "outputs": []
    },
    {
      "cell_type": "markdown",
      "source": [
        "Exmaple of Forward Difference matrix"
      ],
      "metadata": {
        "id": "71Kmcfz3M-ya"
      }
    },
    {
      "cell_type": "code",
      "source": [
        "# Fix a grid\n",
        "a=0\n",
        "b=1\n",
        "N=5\n",
        "h=(b-a)/N\n",
        "D=forw_diff(N)/h\n"
      ],
      "metadata": {
        "id": "DJ6b0gTXR63S"
      },
      "execution_count": 17,
      "outputs": []
    },
    {
      "cell_type": "code",
      "source": [
        "print(D)"
      ],
      "metadata": {
        "id": "kecwHOrVSNSK"
      },
      "execution_count": null,
      "outputs": []
    },
    {
      "cell_type": "code",
      "source": [
        "print(D.todense())"
      ],
      "metadata": {
        "id": "lUfU966YSY9U",
        "outputId": "b7114c7b-3cdd-42bd-99c2-1fe67969c74f",
        "colab": {
          "base_uri": "https://localhost:8080/"
        }
      },
      "execution_count": 10,
      "outputs": [
        {
          "output_type": "stream",
          "name": "stdout",
          "text": [
            "[[-5.  5.  0.  0.  0.  0.]\n",
            " [ 0. -5.  5.  0.  0.  0.]\n",
            " [ 0.  0. -5.  5.  0.  0.]\n",
            " [ 0.  0.  0. -5.  5.  0.]\n",
            " [ 0.  0.  0.  0. -5.  5.]\n",
            " [ 0.  0.  0.  0.  0. -5.]]\n"
          ]
        }
      ]
    },
    {
      "cell_type": "markdown",
      "source": [
        "Test: use the FD to evaluate the derivative of $f(x)=\\frac{x^2}{2}$"
      ],
      "metadata": {
        "id": "vFJoKMnYMThw"
      }
    },
    {
      "cell_type": "code",
      "source": [
        "# Fix function f using symbolic tool\n",
        "t = sym.var('t')\n",
        "fsym = 0.5 * t**2\n",
        "# Define the function as an inline function\n",
        "f = sym.lambdify(t, fsym )\n",
        "\n",
        "# Set up interval and cardinality of the grid\n",
        "a=0\n",
        "b=1\n",
        "N=50\n",
        "h=(b-a)/N\n",
        "\n",
        "# set up grid points\n",
        "x = np.linspace(a,b,N+1)\n",
        "\n",
        "# Evaluate FD matrix\n",
        "D=forw_diff(N)/h\n",
        "\n",
        "# Values of the derivative at the grid points\n",
        "uh = D.dot(f(x))[1:N]\n",
        "\n",
        "# Print results\n",
        "#print(uh)"
      ],
      "metadata": {
        "id": "6Nq2C60jL6PZ"
      },
      "execution_count": 19,
      "outputs": []
    },
    {
      "cell_type": "markdown",
      "source": [
        "Compute max error"
      ],
      "metadata": {
        "id": "yltrCIXzC2vM"
      }
    },
    {
      "cell_type": "code",
      "source": [
        "fdsym = fsym.diff(t,1)\n",
        "fd = sym.lambdify(t,fdsym)\n",
        "\n",
        "print(max(abs(uh-fd(x[1:N]))))"
      ],
      "metadata": {
        "id": "FzC-YdE0C5W8",
        "outputId": "5532945f-9532-40aa-c589-41c3cf7e1212",
        "colab": {
          "base_uri": "https://localhost:8080/"
        }
      },
      "execution_count": 20,
      "outputs": [
        {
          "output_type": "stream",
          "name": "stdout",
          "text": [
            "0.010000000000003229\n"
          ]
        }
      ]
    },
    {
      "cell_type": "markdown",
      "source": [
        "**Exercise 1.** Find a way to evaluate execution time and compare full vs sparse exectution time in function of the grid size N."
      ],
      "metadata": {
        "id": "8sObv8G9YSof"
      }
    },
    {
      "cell_type": "markdown",
      "source": [
        "# Finite Differences for two-points boundary value problems with constant coefficients"
      ],
      "metadata": {
        "id": "3EVlhgPcKty_"
      }
    },
    {
      "cell_type": "markdown",
      "source": [
        "Poisson problem in 1D:\n",
        "\n",
        "$-u''(x)=f(x) \\quad \\in (a,b)$\n",
        "\n",
        "$u(a)=0, \\quad u(b)=0$\n",
        "\n",
        "We use the second central divided difference to approxima the second derivative.\n",
        "\n",
        "Given $h>0$,\n",
        "\n",
        "$u''(x)≈\\frac{u(x+h)-2u(x)+u(x-h)}{h^2}$"
      ],
      "metadata": {
        "id": "cPX73u-NK2Pq"
      }
    },
    {
      "cell_type": "markdown",
      "source": [
        "Function for second central matrix"
      ],
      "metadata": {
        "id": "Uf1tUssmNf7d"
      }
    },
    {
      "cell_type": "code",
      "source": [
        "def CD2(N):\n",
        "  # Function defining nominator of\n",
        "  # second central FD formula on a\n",
        "  # uniform grid in sparse CSR format\n",
        "  data = [np.ones(N), -2*np.ones(N+1), np.ones(N)]\n",
        "  return sp.diags(data,[-1,0,1], format=\"csr\")\n"
      ],
      "metadata": {
        "id": "6AkrOqiXNcTJ"
      },
      "execution_count": 23,
      "outputs": []
    },
    {
      "cell_type": "markdown",
      "source": [
        "Example of second central matrix."
      ],
      "metadata": {
        "id": "Dg5laUneRdT5"
      }
    },
    {
      "cell_type": "code",
      "source": [
        "N=5\n",
        "A = CD2(N)\n",
        "\n",
        "#print(cent_diff)\n",
        "print(A.todense())"
      ],
      "metadata": {
        "id": "KUOiecYxW5ES",
        "outputId": "130bf4b0-4411-4769-9212-ffe155e6fdad",
        "colab": {
          "base_uri": "https://localhost:8080/"
        }
      },
      "execution_count": 25,
      "outputs": [
        {
          "output_type": "stream",
          "name": "stdout",
          "text": [
            "[[-2.  1.  0.  0.  0.  0.]\n",
            " [ 1. -2.  1.  0.  0.  0.]\n",
            " [ 0.  1. -2.  1.  0.  0.]\n",
            " [ 0.  0.  1. -2.  1.  0.]\n",
            " [ 0.  0.  0.  1. -2.  1.]\n",
            " [ 0.  0.  0.  0.  1. -2.]]\n"
          ]
        }
      ]
    },
    {
      "cell_type": "markdown",
      "source": [
        "Test problem:\n",
        "\n",
        "$(a,b)=(0,\\pi)$\n",
        "\n",
        "u(x)=sin(x)"
      ],
      "metadata": {
        "id": "kQFF0QdiNvCt"
      }
    },
    {
      "cell_type": "code",
      "source": [
        "# Define right-hand side function\n",
        "t = sym.var('t')\n",
        "fsym = sym.sin(t)\n",
        "f = sym.lambdify(t, fsym )\n",
        "\n",
        "# Define exact solution\n",
        "usym = sym.sin(t)\n",
        "u = sym.lambdify(t, fsym )"
      ],
      "metadata": {
        "id": "6o6A_IUkNuMG"
      },
      "execution_count": 26,
      "outputs": []
    },
    {
      "cell_type": "markdown",
      "source": [
        "Define FD problem:\n",
        "\n",
        "for $h=(b-a)/N$\n",
        "\n",
        "$ A U = - h^2 F $\n",
        "\n",
        "with $A$ the nominator of CD formula."
      ],
      "metadata": {
        "id": "SWzKNz0vOOWW"
      }
    },
    {
      "cell_type": "code",
      "source": [
        "# Problem domain\n",
        "a=0\n",
        "b=np.pi\n",
        "\n",
        "# Size of grid\n",
        "N=200\n",
        "h=(b-a)/N\n",
        "\n",
        "# Grid\n",
        "x=np.linspace(a,b,N+1)\n",
        "\n",
        "# CD matrix\n",
        "A=CD2(N)\n",
        "\n",
        "# Right-hand side\n",
        "F=-h**2*f(x[1:-1])\n",
        "\n",
        "# Homogeneous Dirichlet boundary conditions\n",
        "A = A[1:-1,1:-1]\n"
      ],
      "metadata": {
        "id": "9ZJJbGtGOME1"
      },
      "execution_count": 32,
      "outputs": []
    },
    {
      "cell_type": "markdown",
      "source": [
        "Import solver"
      ],
      "metadata": {
        "id": "3civ7pL9bGQe"
      }
    },
    {
      "cell_type": "code",
      "source": [
        "from scipy.sparse.linalg import spsolve"
      ],
      "metadata": {
        "id": "BEJ07uM1bJ07"
      },
      "execution_count": 29,
      "outputs": []
    },
    {
      "cell_type": "markdown",
      "source": [
        "Solve problem and print result"
      ],
      "metadata": {
        "id": "AKmPecQMO4Kr"
      }
    },
    {
      "cell_type": "code",
      "source": [
        "# Compute solution at internal nodes\n",
        "uh = spsolve(A,F)\n",
        "# plot solution\n",
        "plt.plot(x[1:-1],uh)"
      ],
      "metadata": {
        "id": "l7B-YKy9O5jF",
        "outputId": "70aece96-2b1b-4757-a716-31554e7791ee",
        "colab": {
          "base_uri": "https://localhost:8080/",
          "height": 449
        }
      },
      "execution_count": 33,
      "outputs": [
        {
          "output_type": "execute_result",
          "data": {
            "text/plain": [
              "[<matplotlib.lines.Line2D at 0x7f30b93d4520>]"
            ]
          },
          "metadata": {},
          "execution_count": 33
        },
        {
          "output_type": "display_data",
          "data": {
            "text/plain": [
              "<Figure size 640x480 with 1 Axes>"
            ],
            "image/png": "[encoded data removed]"
          },
          "metadata": {}
        }
      ]
    },
    {
      "cell_type": "code",
      "source": [
        "# print max error\n",
        "\n",
        "print(np.max(np.abs(uh-u(x[1:-1]))))"
      ],
      "metadata": {
        "id": "UQ9kqgtrZHom",
        "outputId": "14ba3404-98c3-41f8-87de-b6a51c38139d",
        "colab": {
          "base_uri": "https://localhost:8080/"
        }
      },
      "execution_count": 34,
      "outputs": [
        {
          "output_type": "stream",
          "name": "stdout",
          "text": [
            "2.056192950417035e-05\n"
          ]
        }
      ]
    },
    {
      "cell_type": "markdown",
      "source": [
        "**Exercise 2.** test for convergence and plot convergence plot"
      ],
      "metadata": {
        "id": "EbHL94cyPFWM"
      }
    },
    {
      "cell_type": "markdown",
      "source": [
        "**Exercise 3.** Solve the problem with nonhomogeneous Dirichlet conditions:\n",
        "\n",
        "$-\\alpha u''(x)=f(x) \\quad \\in (a,b)$\n",
        "\n",
        "$u(a)=u_a, \\quad u(b)=u_b$"
      ],
      "metadata": {
        "id": "T2QXoNYhP228"
      }
    },
    {
      "cell_type": "markdown",
      "source": [
        "For example, you could fix: $(a,b)=(0,\\pi/2)$, solution $u$ as before, $\\alpha=\\frac{1}{2}$"
      ],
      "metadata": {
        "id": "PWX-C4sbQd-p"
      }
    },
    {
      "cell_type": "markdown",
      "source": [
        "**Exercise 4.** Solve the problem with (homogeneous) Neumann conditions:\n",
        "\n",
        "$-\\alpha u''(x)=f(x) \\quad \\in (a,b)$\n",
        "\n",
        "$u(a)=u_a, \\quad u'(b)=0$"
      ],
      "metadata": {
        "id": "DwxTZDyTQ_cV"
      }
    },
    {
      "cell_type": "markdown",
      "source": [
        "For example, you could fix: $(a,b)=(0,\\pi/2)$, solution $u$ as before, $\\alpha=1$."
      ],
      "metadata": {
        "id": "aySe91zwRMq3"
      }
    },
    {
      "cell_type": "markdown",
      "source": [
        "**Exercise 5.** Solve the reaction-advection-diffusion problem (still with central differences):\n",
        "\n",
        "$-\\alpha u''(x)+\\beta u'(x)+\\gamma u(x)=f(x) \\quad \\in (a,b)$\n",
        "\n",
        "$u(a)=u_a, \\quad u(b)=u_b$\n"
      ],
      "metadata": {
        "id": "MyrPdJSCSOeG"
      }
    }
  ]
}